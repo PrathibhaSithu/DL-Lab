{
 "cells": [
  {
   "cell_type": "code",
   "execution_count": 1,
   "id": "c5145d07",
   "metadata": {
    "_cell_guid": "b1076dfc-b9ad-4769-8c92-a6c4dae69d19",
    "_uuid": "8f2839f25d086af736a60e9eeb907d3b93b6e0e5",
    "execution": {
     "iopub.execute_input": "2024-07-08T06:14:12.976773Z",
     "iopub.status.busy": "2024-07-08T06:14:12.976341Z",
     "iopub.status.idle": "2024-07-08T06:14:13.858471Z",
     "shell.execute_reply": "2024-07-08T06:14:13.857196Z"
    },
    "papermill": {
     "duration": 0.904804,
     "end_time": "2024-07-08T06:14:13.861680",
     "exception": false,
     "start_time": "2024-07-08T06:14:12.956876",
     "status": "completed"
    },
    "tags": []
   },
   "outputs": [
    {
     "name": "stdout",
     "output_type": "stream",
     "text": [
      "/kaggle/input/online-store-customer-data/online_store_customer_data.csv\n",
      "/kaggle/input/anti-dataset/anti dataset - anti dataset.csv\n"
     ]
    }
   ],
   "source": [
    "# This Python 3 environment comes with many helpful analytics libraries installed\n",
    "# It is defined by the kaggle/python Docker image: https://github.com/kaggle/docker-python\n",
    "# For example, here's several helpful packages to load\n",
    "\n",
    "import numpy as np # linear algebra\n",
    "import pandas as pd # data processing, CSV file I/O (e.g. pd.read_csv)\n",
    "\n",
    "# Input data files are available in the read-only \"../input/\" directory\n",
    "# For example, running this (by clicking run or pressing Shift+Enter) will list all files under the input directory\n",
    "\n",
    "import os\n",
    "for dirname, _, filenames in os.walk('/kaggle/input'):\n",
    "    for filename in filenames:\n",
    "        print(os.path.join(dirname, filename))\n",
    "\n",
    "# You can write up to 20GB to the current directory (/kaggle/working/) that gets preserved as output when you create a version using \"Save & Run All\" \n",
    "# You can also write temporary files to /kaggle/temp/, but they won't be saved outside of the current session"
   ]
  },
  {
   "cell_type": "code",
   "execution_count": 2,
   "id": "f3dd226c",
   "metadata": {
    "execution": {
     "iopub.execute_input": "2024-07-08T06:14:13.900132Z",
     "iopub.status.busy": "2024-07-08T06:14:13.898810Z",
     "iopub.status.idle": "2024-07-08T06:14:13.904228Z",
     "shell.execute_reply": "2024-07-08T06:14:13.903252Z"
    },
    "papermill": {
     "duration": 0.027088,
     "end_time": "2024-07-08T06:14:13.906698",
     "exception": false,
     "start_time": "2024-07-08T06:14:13.879610",
     "status": "completed"
    },
    "tags": []
   },
   "outputs": [],
   "source": [
    "import warnings\n",
    "warnings.filterwarnings('ignore')"
   ]
  },
  {
   "cell_type": "markdown",
   "id": "8d6ea9a8",
   "metadata": {
    "papermill": {
     "duration": 0.017155,
     "end_time": "2024-07-08T06:14:13.941198",
     "exception": false,
     "start_time": "2024-07-08T06:14:13.924043",
     "status": "completed"
    },
    "tags": []
   },
   "source": [
    "## Part I"
   ]
  },
  {
   "cell_type": "markdown",
   "id": "e5c961be",
   "metadata": {
    "papermill": {
     "duration": 0.017315,
     "end_time": "2024-07-08T06:14:13.976985",
     "exception": false,
     "start_time": "2024-07-08T06:14:13.959670",
     "status": "completed"
    },
    "tags": []
   },
   "source": [
    "1. Importing Pandas Library:\n",
    "\n",
    "The code starts by importing the pandas library using the alias pd. Pandas is a powerful library for data manipulation and analysis.\n",
    "\n",
    "2. Reading a CSV File:\n",
    "\n",
    "The pd.read_csv() function is used to read a CSV file. The file path provided (\"/kaggle/input/online-store-customer-data/online_store_customer_data.csv\") indicates the location of the CSV file. Make sure that the file path is correct.\n",
    "\n",
    "3. DataFrame Creation:\n",
    "\n",
    "The data from the CSV file is loaded into a DataFrame named df1. A DataFrame is a two-dimensional, tabular data structure provided by Pandas.\n",
    "\n",
    "4. Displaying the DataFrame:\n",
    "\n",
    "The last line of code simply displays the content of the DataFrame df1. When executed in a Jupyter notebook or interactive environment, the DataFrame's content is shown."
   ]
  },
  {
   "cell_type": "code",
   "execution_count": 3,
   "id": "1f2400ce",
   "metadata": {
    "execution": {
     "iopub.execute_input": "2024-07-08T06:14:14.013962Z",
     "iopub.status.busy": "2024-07-08T06:14:14.013057Z",
     "iopub.status.idle": "2024-07-08T06:14:14.069096Z",
     "shell.execute_reply": "2024-07-08T06:14:14.067929Z"
    },
    "papermill": {
     "duration": 0.077555,
     "end_time": "2024-07-08T06:14:14.071997",
     "exception": false,
     "start_time": "2024-07-08T06:14:13.994442",
     "status": "completed"
    },
    "tags": []
   },
   "outputs": [
    {
     "data": {
      "text/html": [
       "<div>\n",
       "<style scoped>\n",
       "    .dataframe tbody tr th:only-of-type {\n",
       "        vertical-align: middle;\n",
       "    }\n",
       "\n",
       "    .dataframe tbody tr th {\n",
       "        vertical-align: top;\n",
       "    }\n",
       "\n",
       "    .dataframe thead th {\n",
       "        text-align: right;\n",
       "    }\n",
       "</style>\n",
       "<table border=\"1\" class=\"dataframe\">\n",
       "  <thead>\n",
       "    <tr style=\"text-align: right;\">\n",
       "      <th></th>\n",
       "      <th>Transaction_date</th>\n",
       "      <th>Transaction_ID</th>\n",
       "      <th>Gender</th>\n",
       "      <th>Age</th>\n",
       "      <th>Marital_status</th>\n",
       "      <th>State_names</th>\n",
       "      <th>Segment</th>\n",
       "      <th>Employees_status</th>\n",
       "      <th>Payment_method</th>\n",
       "      <th>Referal</th>\n",
       "      <th>Amount_spent</th>\n",
       "    </tr>\n",
       "  </thead>\n",
       "  <tbody>\n",
       "    <tr>\n",
       "      <th>0</th>\n",
       "      <td>1/1/2019</td>\n",
       "      <td>151200</td>\n",
       "      <td>Female</td>\n",
       "      <td>19.0</td>\n",
       "      <td>Single</td>\n",
       "      <td>Kansas</td>\n",
       "      <td>Basic</td>\n",
       "      <td>Unemployment</td>\n",
       "      <td>Other</td>\n",
       "      <td>1.0</td>\n",
       "      <td>2051.36</td>\n",
       "    </tr>\n",
       "    <tr>\n",
       "      <th>1</th>\n",
       "      <td>1/1/2019</td>\n",
       "      <td>151201</td>\n",
       "      <td>Male</td>\n",
       "      <td>49.0</td>\n",
       "      <td>Single</td>\n",
       "      <td>Illinois</td>\n",
       "      <td>Basic</td>\n",
       "      <td>self-employed</td>\n",
       "      <td>Card</td>\n",
       "      <td>0.0</td>\n",
       "      <td>544.04</td>\n",
       "    </tr>\n",
       "    <tr>\n",
       "      <th>2</th>\n",
       "      <td>1/1/2019</td>\n",
       "      <td>151202</td>\n",
       "      <td>Male</td>\n",
       "      <td>63.0</td>\n",
       "      <td>Married</td>\n",
       "      <td>New Mexico</td>\n",
       "      <td>Basic</td>\n",
       "      <td>workers</td>\n",
       "      <td>PayPal</td>\n",
       "      <td>1.0</td>\n",
       "      <td>1572.60</td>\n",
       "    </tr>\n",
       "    <tr>\n",
       "      <th>3</th>\n",
       "      <td>1/1/2019</td>\n",
       "      <td>151203</td>\n",
       "      <td>NaN</td>\n",
       "      <td>18.0</td>\n",
       "      <td>Single</td>\n",
       "      <td>Virginia</td>\n",
       "      <td>Platinum</td>\n",
       "      <td>workers</td>\n",
       "      <td>Card</td>\n",
       "      <td>1.0</td>\n",
       "      <td>1199.79</td>\n",
       "    </tr>\n",
       "    <tr>\n",
       "      <th>4</th>\n",
       "      <td>1/1/2019</td>\n",
       "      <td>151204</td>\n",
       "      <td>Male</td>\n",
       "      <td>27.0</td>\n",
       "      <td>Single</td>\n",
       "      <td>Connecticut</td>\n",
       "      <td>Basic</td>\n",
       "      <td>self-employed</td>\n",
       "      <td>Card</td>\n",
       "      <td>0.0</td>\n",
       "      <td>NaN</td>\n",
       "    </tr>\n",
       "    <tr>\n",
       "      <th>...</th>\n",
       "      <td>...</td>\n",
       "      <td>...</td>\n",
       "      <td>...</td>\n",
       "      <td>...</td>\n",
       "      <td>...</td>\n",
       "      <td>...</td>\n",
       "      <td>...</td>\n",
       "      <td>...</td>\n",
       "      <td>...</td>\n",
       "      <td>...</td>\n",
       "      <td>...</td>\n",
       "    </tr>\n",
       "    <tr>\n",
       "      <th>2507</th>\n",
       "      <td>5/1/2021</td>\n",
       "      <td>153695</td>\n",
       "      <td>Female</td>\n",
       "      <td>57.0</td>\n",
       "      <td>Single</td>\n",
       "      <td>South Carolina</td>\n",
       "      <td>Platinum</td>\n",
       "      <td>self-employed</td>\n",
       "      <td>Card</td>\n",
       "      <td>0.0</td>\n",
       "      <td>150.10</td>\n",
       "    </tr>\n",
       "    <tr>\n",
       "      <th>2508</th>\n",
       "      <td>5/1/2021</td>\n",
       "      <td>153696</td>\n",
       "      <td>Female</td>\n",
       "      <td>36.0</td>\n",
       "      <td>Married</td>\n",
       "      <td>Hawaii</td>\n",
       "      <td>Silver</td>\n",
       "      <td>self-employed</td>\n",
       "      <td>PayPal</td>\n",
       "      <td>1.0</td>\n",
       "      <td>708.88</td>\n",
       "    </tr>\n",
       "    <tr>\n",
       "      <th>2509</th>\n",
       "      <td>5/1/2021</td>\n",
       "      <td>153697</td>\n",
       "      <td>Male</td>\n",
       "      <td>22.0</td>\n",
       "      <td>Single</td>\n",
       "      <td>South Carolina</td>\n",
       "      <td>Basic</td>\n",
       "      <td>workers</td>\n",
       "      <td>PayPal</td>\n",
       "      <td>1.0</td>\n",
       "      <td>2030.07</td>\n",
       "    </tr>\n",
       "    <tr>\n",
       "      <th>2510</th>\n",
       "      <td>5/1/2021</td>\n",
       "      <td>153698</td>\n",
       "      <td>NaN</td>\n",
       "      <td>44.0</td>\n",
       "      <td>Single</td>\n",
       "      <td>New York</td>\n",
       "      <td>Basic</td>\n",
       "      <td>Employees</td>\n",
       "      <td>PayPal</td>\n",
       "      <td>0.0</td>\n",
       "      <td>1909.77</td>\n",
       "    </tr>\n",
       "    <tr>\n",
       "      <th>2511</th>\n",
       "      <td>5/1/2021</td>\n",
       "      <td>153699</td>\n",
       "      <td>Male</td>\n",
       "      <td>48.0</td>\n",
       "      <td>Single</td>\n",
       "      <td>California</td>\n",
       "      <td>Silver</td>\n",
       "      <td>workers</td>\n",
       "      <td>PayPal</td>\n",
       "      <td>1.0</td>\n",
       "      <td>1073.15</td>\n",
       "    </tr>\n",
       "  </tbody>\n",
       "</table>\n",
       "<p>2512 rows × 11 columns</p>\n",
       "</div>"
      ],
      "text/plain": [
       "     Transaction_date  Transaction_ID  Gender   Age Marital_status  \\\n",
       "0            1/1/2019          151200  Female  19.0         Single   \n",
       "1            1/1/2019          151201    Male  49.0         Single   \n",
       "2            1/1/2019          151202    Male  63.0        Married   \n",
       "3            1/1/2019          151203     NaN  18.0         Single   \n",
       "4            1/1/2019          151204    Male  27.0         Single   \n",
       "...               ...             ...     ...   ...            ...   \n",
       "2507         5/1/2021          153695  Female  57.0         Single   \n",
       "2508         5/1/2021          153696  Female  36.0        Married   \n",
       "2509         5/1/2021          153697    Male  22.0         Single   \n",
       "2510         5/1/2021          153698     NaN  44.0         Single   \n",
       "2511         5/1/2021          153699    Male  48.0         Single   \n",
       "\n",
       "         State_names   Segment Employees_status Payment_method  Referal  \\\n",
       "0             Kansas     Basic     Unemployment          Other      1.0   \n",
       "1           Illinois     Basic    self-employed           Card      0.0   \n",
       "2         New Mexico     Basic          workers         PayPal      1.0   \n",
       "3           Virginia  Platinum          workers           Card      1.0   \n",
       "4        Connecticut     Basic    self-employed           Card      0.0   \n",
       "...              ...       ...              ...            ...      ...   \n",
       "2507  South Carolina  Platinum    self-employed           Card      0.0   \n",
       "2508          Hawaii    Silver    self-employed         PayPal      1.0   \n",
       "2509  South Carolina     Basic          workers         PayPal      1.0   \n",
       "2510        New York     Basic        Employees         PayPal      0.0   \n",
       "2511      California    Silver          workers         PayPal      1.0   \n",
       "\n",
       "      Amount_spent  \n",
       "0          2051.36  \n",
       "1           544.04  \n",
       "2          1572.60  \n",
       "3          1199.79  \n",
       "4              NaN  \n",
       "...            ...  \n",
       "2507        150.10  \n",
       "2508        708.88  \n",
       "2509       2030.07  \n",
       "2510       1909.77  \n",
       "2511       1073.15  \n",
       "\n",
       "[2512 rows x 11 columns]"
      ]
     },
     "execution_count": 3,
     "metadata": {},
     "output_type": "execute_result"
    }
   ],
   "source": [
    "df1 = pd.read_csv(\"/kaggle/input/online-store-customer-data/online_store_customer_data.csv\")\n",
    "df1"
   ]
  },
  {
   "cell_type": "code",
   "execution_count": 4,
   "id": "6c612755",
   "metadata": {
    "execution": {
     "iopub.execute_input": "2024-07-08T06:14:14.111162Z",
     "iopub.status.busy": "2024-07-08T06:14:14.110199Z",
     "iopub.status.idle": "2024-07-08T06:14:14.136973Z",
     "shell.execute_reply": "2024-07-08T06:14:14.135807Z"
    },
    "papermill": {
     "duration": 0.048873,
     "end_time": "2024-07-08T06:14:14.139794",
     "exception": false,
     "start_time": "2024-07-08T06:14:14.090921",
     "status": "completed"
    },
    "tags": []
   },
   "outputs": [
    {
     "name": "stdout",
     "output_type": "stream",
     "text": [
      "<class 'pandas.core.frame.DataFrame'>\n",
      "RangeIndex: 2512 entries, 0 to 2511\n",
      "Data columns (total 11 columns):\n",
      " #   Column            Non-Null Count  Dtype  \n",
      "---  ------            --------------  -----  \n",
      " 0   Transaction_date  2512 non-null   object \n",
      " 1   Transaction_ID    2512 non-null   int64  \n",
      " 2   Gender            2484 non-null   object \n",
      " 3   Age               2470 non-null   float64\n",
      " 4   Marital_status    2512 non-null   object \n",
      " 5   State_names       2512 non-null   object \n",
      " 6   Segment           2512 non-null   object \n",
      " 7   Employees_status  2486 non-null   object \n",
      " 8   Payment_method    2512 non-null   object \n",
      " 9   Referal           2357 non-null   float64\n",
      " 10  Amount_spent      2270 non-null   float64\n",
      "dtypes: float64(3), int64(1), object(7)\n",
      "memory usage: 216.0+ KB\n"
     ]
    }
   ],
   "source": [
    "df1.info()"
   ]
  },
  {
   "cell_type": "markdown",
   "id": "37133b6d",
   "metadata": {
    "papermill": {
     "duration": 0.017607,
     "end_time": "2024-07-08T06:14:14.175636",
     "exception": false,
     "start_time": "2024-07-08T06:14:14.158029",
     "status": "completed"
    },
    "tags": []
   },
   "source": [
    "Before we make any changes, we are going to duplicate the dataset so that original dataset is\n",
    "not affected."
   ]
  },
  {
   "cell_type": "code",
   "execution_count": 5,
   "id": "bb902a14",
   "metadata": {
    "execution": {
     "iopub.execute_input": "2024-07-08T06:14:14.213906Z",
     "iopub.status.busy": "2024-07-08T06:14:14.213016Z",
     "iopub.status.idle": "2024-07-08T06:14:14.218777Z",
     "shell.execute_reply": "2024-07-08T06:14:14.217661Z"
    },
    "papermill": {
     "duration": 0.027584,
     "end_time": "2024-07-08T06:14:14.221346",
     "exception": false,
     "start_time": "2024-07-08T06:14:14.193762",
     "status": "completed"
    },
    "tags": []
   },
   "outputs": [],
   "source": [
    "df = df1.copy()"
   ]
  },
  {
   "cell_type": "markdown",
   "id": "1c8d7590",
   "metadata": {
    "papermill": {
     "duration": 0.017759,
     "end_time": "2024-07-08T06:14:14.257285",
     "exception": false,
     "start_time": "2024-07-08T06:14:14.239526",
     "status": "completed"
    },
    "tags": []
   },
   "source": [
    "Plotting the categorical columns to help understand the dataset better"
   ]
  },
  {
   "cell_type": "code",
   "execution_count": 6,
   "id": "7a96f804",
   "metadata": {
    "execution": {
     "iopub.execute_input": "2024-07-08T06:14:14.294899Z",
     "iopub.status.busy": "2024-07-08T06:14:14.294490Z",
     "iopub.status.idle": "2024-07-08T06:14:15.677949Z",
     "shell.execute_reply": "2024-07-08T06:14:15.676741Z"
    },
    "papermill": {
     "duration": 1.405888,
     "end_time": "2024-07-08T06:14:15.680787",
     "exception": false,
     "start_time": "2024-07-08T06:14:14.274899",
     "status": "completed"
    },
    "tags": []
   },
   "outputs": [],
   "source": [
    "import seaborn as sns\n",
    "import numpy as np\n",
    "import matplotlib.pyplot as plt\n",
    "%matplotlib inline"
   ]
  },
  {
   "cell_type": "code",
   "execution_count": 7,
   "id": "a79b830b",
   "metadata": {
    "execution": {
     "iopub.execute_input": "2024-07-08T06:14:15.718994Z",
     "iopub.status.busy": "2024-07-08T06:14:15.718568Z",
     "iopub.status.idle": "2024-07-08T06:14:15.927421Z",
     "shell.execute_reply": "2024-07-08T06:14:15.926273Z"
    },
    "papermill": {
     "duration": 0.231094,
     "end_time": "2024-07-08T06:14:15.930052",
     "exception": false,
     "start_time": "2024-07-08T06:14:15.698958",
     "status": "completed"
    },
    "tags": []
   },
   "outputs": [
    {
     "data": {
      "text/plain": [
       "<Axes: xlabel='Gender', ylabel='count'>"
      ]
     },
     "execution_count": 7,
     "metadata": {},
     "output_type": "execute_result"
    },
    {
     "data": {
      "image/png": "[encoded data removed]",
      "text/plain": [
       "<Figure size 640x480 with 1 Axes>"
      ]
     },
     "metadata": {},
     "output_type": "display_data"
    }
   ],
   "source": [
    "sns.countplot(x = \"Gender\", data = df)"
   ]
  },
  {
   "cell_type": "markdown",
   "id": "8abda974",
   "metadata": {
    "papermill": {
     "duration": 0.018318,
     "end_time": "2024-07-08T06:14:15.966891",
     "exception": false,
     "start_time": "2024-07-08T06:14:15.948573",
     "status": "completed"
    },
    "tags": []
   },
   "source": [
    "1. Visualization:\n",
    "\n",
    "The count plot visually represents the distribution of gender in the dataset.\n",
    "The x-axis represents the unique categories in the \"Gender\" column.\n",
    "The y-axis represents the count of occurrences for each gender.\n",
    "\n",
    "2. Interpretation:\n",
    "\n",
    "By observing the count plot, you can quickly assess the relative frequencies or distribution of each gender category in the dataset.\n",
    "The height of each bar represents the number of occurrences of each gender.\n",
    "\n",
    "3. Insights:\n",
    "\n",
    "Analyzing the count plot might reveal patterns or imbalances in the gender distribution.\n",
    "It's useful for exploring the composition of categorical variables and gaining insights into the dataset."
   ]
  },
  {
   "cell_type": "code",
   "execution_count": 8,
   "id": "30761623",
   "metadata": {
    "execution": {
     "iopub.execute_input": "2024-07-08T06:14:16.005315Z",
     "iopub.status.busy": "2024-07-08T06:14:16.004938Z",
     "iopub.status.idle": "2024-07-08T06:14:16.281192Z",
     "shell.execute_reply": "2024-07-08T06:14:16.280100Z"
    },
    "papermill": {
     "duration": 0.298482,
     "end_time": "2024-07-08T06:14:16.283646",
     "exception": false,
     "start_time": "2024-07-08T06:14:15.985164",
     "status": "completed"
    },
    "tags": []
   },
   "outputs": [
    {
     "data": {
      "text/plain": [
       "<Axes: xlabel='Segment', ylabel='count'>"
      ]
     },
     "execution_count": 8,
     "metadata": {},
     "output_type": "execute_result"
    },
    {
     "data": {
      "image/png": "[encoded data removed]",
      "text/plain": [
       "<Figure size 640x480 with 1 Axes>"
      ]
     },
     "metadata": {},
     "output_type": "display_data"
    }
   ],
   "source": [
    "sns.countplot(x = \"Segment\", data = df)"
   ]
  },
  {
   "cell_type": "markdown",
   "id": "8c042a92",
   "metadata": {
    "papermill": {
     "duration": 0.019036,
     "end_time": "2024-07-08T06:14:16.321721",
     "exception": false,
     "start_time": "2024-07-08T06:14:16.302685",
     "status": "completed"
    },
    "tags": []
   },
   "source": [
    "Insight into Distribution:\n",
    "\n",
    "By observing the heights of the bars, you can quickly assess which segments are more prevalent or less common in the dataset.\n",
    "Unusual or unexpected patterns in the distribution may warrant further investigation. \n",
    "In this case, maximum people preferred \"Basic\" segement"
   ]
  },
  {
   "cell_type": "code",
   "execution_count": 9,
   "id": "68288246",
   "metadata": {
    "execution": {
     "iopub.execute_input": "2024-07-08T06:14:16.362451Z",
     "iopub.status.busy": "2024-07-08T06:14:16.361440Z",
     "iopub.status.idle": "2024-07-08T06:14:16.539778Z",
     "shell.execute_reply": "2024-07-08T06:14:16.538583Z"
    },
    "papermill": {
     "duration": 0.201644,
     "end_time": "2024-07-08T06:14:16.542571",
     "exception": false,
     "start_time": "2024-07-08T06:14:16.340927",
     "status": "completed"
    },
    "tags": []
   },
   "outputs": [
    {
     "data": {
      "text/plain": [
       "<Axes: xlabel='Marital_status', ylabel='count'>"
      ]
     },
     "execution_count": 9,
     "metadata": {},
     "output_type": "execute_result"
    },
    {
     "data": {
      "image/png": "[encoded data removed]",
      "text/plain": [
       "<Figure size 640x480 with 1 Axes>"
      ]
     },
     "metadata": {},
     "output_type": "display_data"
    }
   ],
   "source": [
    "sns.countplot(x = \"Marital_status\", data = df)"
   ]
  },
  {
   "cell_type": "markdown",
   "id": "a9ad4ed1",
   "metadata": {
    "papermill": {
     "duration": 0.019551,
     "end_time": "2024-07-08T06:14:16.581903",
     "exception": false,
     "start_time": "2024-07-08T06:14:16.562352",
     "status": "completed"
    },
    "tags": []
   },
   "source": [
    "Insights:\n",
    "\n",
    "The count plot provides insights into the distribution of marital statuses within the dataset.\n",
    "\n",
    "It can reveal which marital status categories are more prevalent or less common.\n",
    "\n",
    "Identifying imbalances or patterns may be relevant for further analysis or decision-making."
   ]
  },
  {
   "cell_type": "code",
   "execution_count": 10,
   "id": "36e47dd0",
   "metadata": {
    "execution": {
     "iopub.execute_input": "2024-07-08T06:14:16.624587Z",
     "iopub.status.busy": "2024-07-08T06:14:16.624168Z",
     "iopub.status.idle": "2024-07-08T06:14:16.806465Z",
     "shell.execute_reply": "2024-07-08T06:14:16.805220Z"
    },
    "papermill": {
     "duration": 0.205957,
     "end_time": "2024-07-08T06:14:16.809055",
     "exception": false,
     "start_time": "2024-07-08T06:14:16.603098",
     "status": "completed"
    },
    "tags": []
   },
   "outputs": [
    {
     "data": {
      "text/plain": [
       "<Axes: xlabel='Employees_status', ylabel='count'>"
      ]
     },
     "execution_count": 10,
     "metadata": {},
     "output_type": "execute_result"
    },
    {
     "data": {
      "image/png": "[encoded data removed]",
      "text/plain": [
       "<Figure size 640x480 with 1 Axes>"
      ]
     },
     "metadata": {},
     "output_type": "display_data"
    }
   ],
   "source": [
    "sns.countplot(x = \"Employees_status\", data = df)"
   ]
  },
  {
   "cell_type": "markdown",
   "id": "e40ba5e4",
   "metadata": {
    "papermill": {
     "duration": 0.01992,
     "end_time": "2024-07-08T06:14:16.849032",
     "exception": false,
     "start_time": "2024-07-08T06:14:16.829112",
     "status": "completed"
    },
    "tags": []
   },
   "source": [
    "Insights:\n",
    "\n",
    "The count plot provides insights into the composition of employee status categories within the dataset."
   ]
  },
  {
   "cell_type": "code",
   "execution_count": 11,
   "id": "cbc2b59a",
   "metadata": {
    "execution": {
     "iopub.execute_input": "2024-07-08T06:14:16.891200Z",
     "iopub.status.busy": "2024-07-08T06:14:16.890812Z",
     "iopub.status.idle": "2024-07-08T06:14:17.070348Z",
     "shell.execute_reply": "2024-07-08T06:14:17.069322Z"
    },
    "papermill": {
     "duration": 0.203781,
     "end_time": "2024-07-08T06:14:17.072961",
     "exception": false,
     "start_time": "2024-07-08T06:14:16.869180",
     "status": "completed"
    },
    "tags": []
   },
   "outputs": [
    {
     "data": {
      "text/plain": [
       "<Axes: xlabel='Payment_method', ylabel='count'>"
      ]
     },
     "execution_count": 11,
     "metadata": {},
     "output_type": "execute_result"
    },
    {
     "data": {
      "image/png": "[encoded data removed]",
      "text/plain": [
       "<Figure size 640x480 with 1 Axes>"
      ]
     },
     "metadata": {},
     "output_type": "display_data"
    }
   ],
   "source": [
    "sns.countplot(x = \"Payment_method\", data = df)"
   ]
  },
  {
   "cell_type": "markdown",
   "id": "f6a0db51",
   "metadata": {
    "papermill": {
     "duration": 0.02183,
     "end_time": "2024-07-08T06:14:17.115978",
     "exception": false,
     "start_time": "2024-07-08T06:14:17.094148",
     "status": "completed"
    },
    "tags": []
   },
   "source": [
    "1. Interpretation:\n",
    "\n",
    "By examining the count plot, one can quickly understand the popularity or prevalence of different payment methods within the dataset.\n",
    "The height of each bar indicates the number of occurrences of a particular payment method.\n",
    "\n",
    "2. Insights:\n",
    "\n",
    "The count plot can reveal which payment methods are more commonly used or preferred by the dataset.\n",
    "It can highlight any significant imbalances or patterns in the distribution of payment methods.\n"
   ]
  },
  {
   "cell_type": "markdown",
   "id": "3efa0253",
   "metadata": {
    "papermill": {
     "duration": 0.020436,
     "end_time": "2024-07-08T06:14:17.157130",
     "exception": false,
     "start_time": "2024-07-08T06:14:17.136694",
     "status": "completed"
    },
    "tags": []
   },
   "source": [
    "Providing a summary statistics (mean, median,\n",
    "minimum, maximum, standard deviation) for a\n",
    "dataset (age, income etc.) with numeric variables grouped by one of the\n",
    "qualitative (categorical) variable.\n",
    "\n",
    "For example, if your categorical variable is age groups and quantitative variable\n",
    "is Payment_method, then provide summary\n",
    "statistics of Payment_method grouped by the\n",
    "age groups."
   ]
  },
  {
   "cell_type": "code",
   "execution_count": 12,
   "id": "acf54aa0",
   "metadata": {
    "execution": {
     "iopub.execute_input": "2024-07-08T06:14:17.261869Z",
     "iopub.status.busy": "2024-07-08T06:14:17.260808Z",
     "iopub.status.idle": "2024-07-08T06:14:17.273644Z",
     "shell.execute_reply": "2024-07-08T06:14:17.272454Z"
    },
    "papermill": {
     "duration": 0.097222,
     "end_time": "2024-07-08T06:14:17.276077",
     "exception": false,
     "start_time": "2024-07-08T06:14:17.178855",
     "status": "completed"
    },
    "tags": []
   },
   "outputs": [
    {
     "data": {
      "text/plain": [
       "Gender\n",
       "Female    46.864253\n",
       "Male      46.475806\n",
       "Name: Age, dtype: float64"
      ]
     },
     "execution_count": 12,
     "metadata": {},
     "output_type": "execute_result"
    }
   ],
   "source": [
    "df.groupby(\"Gender\")['Age'].mean()"
   ]
  },
  {
   "cell_type": "code",
   "execution_count": 13,
   "id": "2f8c8ec2",
   "metadata": {
    "execution": {
     "iopub.execute_input": "2024-07-08T06:14:17.319806Z",
     "iopub.status.busy": "2024-07-08T06:14:17.319389Z",
     "iopub.status.idle": "2024-07-08T06:14:17.331079Z",
     "shell.execute_reply": "2024-07-08T06:14:17.329853Z"
    },
    "papermill": {
     "duration": 0.036892,
     "end_time": "2024-07-08T06:14:17.333862",
     "exception": false,
     "start_time": "2024-07-08T06:14:17.296970",
     "status": "completed"
    },
    "tags": []
   },
   "outputs": [
    {
     "data": {
      "text/plain": [
       "Gender\n",
       "Female    47.0\n",
       "Male      47.0\n",
       "Name: Age, dtype: float64"
      ]
     },
     "execution_count": 13,
     "metadata": {},
     "output_type": "execute_result"
    }
   ],
   "source": [
    "df.groupby(\"Gender\")['Age'].median()"
   ]
  },
  {
   "cell_type": "code",
   "execution_count": 14,
   "id": "304f9cdf",
   "metadata": {
    "execution": {
     "iopub.execute_input": "2024-07-08T06:14:17.378114Z",
     "iopub.status.busy": "2024-07-08T06:14:17.377706Z",
     "iopub.status.idle": "2024-07-08T06:14:17.392055Z",
     "shell.execute_reply": "2024-07-08T06:14:17.390923Z"
    },
    "papermill": {
     "duration": 0.039505,
     "end_time": "2024-07-08T06:14:17.394522",
     "exception": false,
     "start_time": "2024-07-08T06:14:17.355017",
     "status": "completed"
    },
    "tags": []
   },
   "outputs": [
    {
     "data": {
      "text/plain": [
       "Gender\n",
       "Female    15.0\n",
       "Male      15.0\n",
       "Name: Age, dtype: float64"
      ]
     },
     "execution_count": 14,
     "metadata": {},
     "output_type": "execute_result"
    }
   ],
   "source": [
    "df.groupby(\"Gender\")['Age'].min()"
   ]
  },
  {
   "cell_type": "code",
   "execution_count": 15,
   "id": "b86e8a19",
   "metadata": {
    "execution": {
     "iopub.execute_input": "2024-07-08T06:14:17.439478Z",
     "iopub.status.busy": "2024-07-08T06:14:17.438622Z",
     "iopub.status.idle": "2024-07-08T06:14:17.448156Z",
     "shell.execute_reply": "2024-07-08T06:14:17.447077Z"
    },
    "papermill": {
     "duration": 0.034831,
     "end_time": "2024-07-08T06:14:17.450659",
     "exception": false,
     "start_time": "2024-07-08T06:14:17.415828",
     "status": "completed"
    },
    "tags": []
   },
   "outputs": [
    {
     "data": {
      "text/plain": [
       "Segment\n",
       "Basic       47.093107\n",
       "Gold        47.334711\n",
       "Missing     47.430052\n",
       "Platinum    45.680365\n",
       "Silver      45.781250\n",
       "Name: Age, dtype: float64"
      ]
     },
     "execution_count": 15,
     "metadata": {},
     "output_type": "execute_result"
    }
   ],
   "source": [
    "df.groupby(\"Segment\")['Age'].mean()"
   ]
  },
  {
   "cell_type": "code",
   "execution_count": 16,
   "id": "9e0f07d9",
   "metadata": {
    "execution": {
     "iopub.execute_input": "2024-07-08T06:14:17.495722Z",
     "iopub.status.busy": "2024-07-08T06:14:17.494848Z",
     "iopub.status.idle": "2024-07-08T06:14:17.505694Z",
     "shell.execute_reply": "2024-07-08T06:14:17.504545Z"
    },
    "papermill": {
     "duration": 0.036049,
     "end_time": "2024-07-08T06:14:17.508164",
     "exception": false,
     "start_time": "2024-07-08T06:14:17.472115",
     "status": "completed"
    },
    "tags": []
   },
   "outputs": [
    {
     "data": {
      "text/plain": [
       "Segment\n",
       "Basic       78.0\n",
       "Gold        78.0\n",
       "Missing     78.0\n",
       "Platinum    78.0\n",
       "Silver      78.0\n",
       "Name: Age, dtype: float64"
      ]
     },
     "execution_count": 16,
     "metadata": {},
     "output_type": "execute_result"
    }
   ],
   "source": [
    "df.groupby(\"Segment\")['Age'].max()"
   ]
  },
  {
   "cell_type": "code",
   "execution_count": 17,
   "id": "5de45ee1",
   "metadata": {
    "execution": {
     "iopub.execute_input": "2024-07-08T06:14:17.553407Z",
     "iopub.status.busy": "2024-07-08T06:14:17.552961Z",
     "iopub.status.idle": "2024-07-08T06:14:17.562756Z",
     "shell.execute_reply": "2024-07-08T06:14:17.561667Z"
    },
    "papermill": {
     "duration": 0.03545,
     "end_time": "2024-07-08T06:14:17.565310",
     "exception": false,
     "start_time": "2024-07-08T06:14:17.529860",
     "status": "completed"
    },
    "tags": []
   },
   "outputs": [
    {
     "data": {
      "text/plain": [
       "Marital_status\n",
       "Married    46.459889\n",
       "Single     46.888672\n",
       "Name: Age, dtype: float64"
      ]
     },
     "execution_count": 17,
     "metadata": {},
     "output_type": "execute_result"
    }
   ],
   "source": [
    "df.groupby(\"Marital_status\")['Age'].mean()"
   ]
  },
  {
   "cell_type": "code",
   "execution_count": 18,
   "id": "01f93461",
   "metadata": {
    "execution": {
     "iopub.execute_input": "2024-07-08T06:14:17.612982Z",
     "iopub.status.busy": "2024-07-08T06:14:17.612552Z",
     "iopub.status.idle": "2024-07-08T06:14:17.623013Z",
     "shell.execute_reply": "2024-07-08T06:14:17.621875Z"
    },
    "papermill": {
     "duration": 0.038402,
     "end_time": "2024-07-08T06:14:17.625569",
     "exception": false,
     "start_time": "2024-07-08T06:14:17.587167",
     "status": "completed"
    },
    "tags": []
   },
   "outputs": [
    {
     "data": {
      "text/plain": [
       "Marital_status\n",
       "Married    47.0\n",
       "Single     46.5\n",
       "Name: Age, dtype: float64"
      ]
     },
     "execution_count": 18,
     "metadata": {},
     "output_type": "execute_result"
    }
   ],
   "source": [
    "df.groupby(\"Marital_status\")['Age'].median()"
   ]
  },
  {
   "cell_type": "code",
   "execution_count": 19,
   "id": "1140c78e",
   "metadata": {
    "execution": {
     "iopub.execute_input": "2024-07-08T06:14:17.672131Z",
     "iopub.status.busy": "2024-07-08T06:14:17.671172Z",
     "iopub.status.idle": "2024-07-08T06:14:17.681292Z",
     "shell.execute_reply": "2024-07-08T06:14:17.680165Z"
    },
    "papermill": {
     "duration": 0.036111,
     "end_time": "2024-07-08T06:14:17.683701",
     "exception": false,
     "start_time": "2024-07-08T06:14:17.647590",
     "status": "completed"
    },
    "tags": []
   },
   "outputs": [
    {
     "data": {
      "text/plain": [
       "Marital_status\n",
       "Married    15.0\n",
       "Single     15.0\n",
       "Name: Age, dtype: float64"
      ]
     },
     "execution_count": 19,
     "metadata": {},
     "output_type": "execute_result"
    }
   ],
   "source": [
    "df.groupby(\"Marital_status\")['Age'].min()"
   ]
  },
  {
   "cell_type": "code",
   "execution_count": 20,
   "id": "9122825a",
   "metadata": {
    "execution": {
     "iopub.execute_input": "2024-07-08T06:14:17.730571Z",
     "iopub.status.busy": "2024-07-08T06:14:17.729528Z",
     "iopub.status.idle": "2024-07-08T06:14:17.741610Z",
     "shell.execute_reply": "2024-07-08T06:14:17.740512Z"
    },
    "papermill": {
     "duration": 0.038339,
     "end_time": "2024-07-08T06:14:17.744104",
     "exception": false,
     "start_time": "2024-07-08T06:14:17.705765",
     "status": "completed"
    },
    "tags": []
   },
   "outputs": [
    {
     "data": {
      "text/plain": [
       "Marital_status\n",
       "Married    18.268948\n",
       "Single     18.074823\n",
       "Name: Age, dtype: float64"
      ]
     },
     "execution_count": 20,
     "metadata": {},
     "output_type": "execute_result"
    }
   ],
   "source": [
    "df.groupby(\"Marital_status\")['Age'].std()"
   ]
  },
  {
   "cell_type": "code",
   "execution_count": 21,
   "id": "be7ccfee",
   "metadata": {
    "execution": {
     "iopub.execute_input": "2024-07-08T06:14:17.790628Z",
     "iopub.status.busy": "2024-07-08T06:14:17.790089Z",
     "iopub.status.idle": "2024-07-08T06:14:17.800461Z",
     "shell.execute_reply": "2024-07-08T06:14:17.799349Z"
    },
    "papermill": {
     "duration": 0.036718,
     "end_time": "2024-07-08T06:14:17.802958",
     "exception": false,
     "start_time": "2024-07-08T06:14:17.766240",
     "status": "completed"
    },
    "tags": []
   },
   "outputs": [
    {
     "data": {
      "text/plain": [
       "Employees_status\n",
       "Employees        900.935463\n",
       "Unemployment     848.689156\n",
       "self-employed    888.974074\n",
       "workers          854.835555\n",
       "Name: Amount_spent, dtype: float64"
      ]
     },
     "execution_count": 21,
     "metadata": {},
     "output_type": "execute_result"
    }
   ],
   "source": [
    "df.groupby(\"Employees_status\")['Amount_spent'].std()"
   ]
  },
  {
   "cell_type": "code",
   "execution_count": 22,
   "id": "bda0dccf",
   "metadata": {
    "execution": {
     "iopub.execute_input": "2024-07-08T06:14:17.849782Z",
     "iopub.status.busy": "2024-07-08T06:14:17.848811Z",
     "iopub.status.idle": "2024-07-08T06:14:17.859225Z",
     "shell.execute_reply": "2024-07-08T06:14:17.858124Z"
    },
    "papermill": {
     "duration": 0.036291,
     "end_time": "2024-07-08T06:14:17.861535",
     "exception": false,
     "start_time": "2024-07-08T06:14:17.825244",
     "status": "completed"
    },
    "tags": []
   },
   "outputs": [
    {
     "data": {
      "text/plain": [
       "Employees_status\n",
       "Employees        18.229019\n",
       "Unemployment     17.502303\n",
       "self-employed    18.372993\n",
       "workers          18.194628\n",
       "Name: Age, dtype: float64"
      ]
     },
     "execution_count": 22,
     "metadata": {},
     "output_type": "execute_result"
    }
   ],
   "source": [
    "df.groupby(\"Employees_status\")['Age'].std()"
   ]
  },
  {
   "cell_type": "code",
   "execution_count": 23,
   "id": "632a9d2a",
   "metadata": {
    "execution": {
     "iopub.execute_input": "2024-07-08T06:14:17.908787Z",
     "iopub.status.busy": "2024-07-08T06:14:17.908055Z",
     "iopub.status.idle": "2024-07-08T06:14:17.918162Z",
     "shell.execute_reply": "2024-07-08T06:14:17.917058Z"
    },
    "papermill": {
     "duration": 0.036628,
     "end_time": "2024-07-08T06:14:17.920549",
     "exception": false,
     "start_time": "2024-07-08T06:14:17.883921",
     "status": "completed"
    },
    "tags": []
   },
   "outputs": [
    {
     "data": {
      "text/plain": [
       "Employees_status\n",
       "Employees        2997.21\n",
       "Unemployment     2951.27\n",
       "self-employed    2998.62\n",
       "workers          2999.98\n",
       "Name: Amount_spent, dtype: float64"
      ]
     },
     "execution_count": 23,
     "metadata": {},
     "output_type": "execute_result"
    }
   ],
   "source": [
    "df.groupby(\"Employees_status\")['Amount_spent'].max()"
   ]
  },
  {
   "cell_type": "code",
   "execution_count": 24,
   "id": "cbba71fb",
   "metadata": {
    "execution": {
     "iopub.execute_input": "2024-07-08T06:14:17.967626Z",
     "iopub.status.busy": "2024-07-08T06:14:17.967077Z",
     "iopub.status.idle": "2024-07-08T06:14:17.977569Z",
     "shell.execute_reply": "2024-07-08T06:14:17.976447Z"
    },
    "papermill": {
     "duration": 0.036907,
     "end_time": "2024-07-08T06:14:17.980033",
     "exception": false,
     "start_time": "2024-07-08T06:14:17.943126",
     "status": "completed"
    },
    "tags": []
   },
   "outputs": [
    {
     "data": {
      "text/plain": [
       "Payment_method\n",
       "Card      862.425415\n",
       "Other     867.918732\n",
       "PayPal    894.171343\n",
       "Name: Amount_spent, dtype: float64"
      ]
     },
     "execution_count": 24,
     "metadata": {},
     "output_type": "execute_result"
    }
   ],
   "source": [
    "df.groupby(\"Payment_method\")['Amount_spent'].std()"
   ]
  },
  {
   "cell_type": "code",
   "execution_count": 25,
   "id": "9fc85c67",
   "metadata": {
    "execution": {
     "iopub.execute_input": "2024-07-08T06:14:18.030247Z",
     "iopub.status.busy": "2024-07-08T06:14:18.029797Z",
     "iopub.status.idle": "2024-07-08T06:14:18.039970Z",
     "shell.execute_reply": "2024-07-08T06:14:18.038851Z"
    },
    "papermill": {
     "duration": 0.039276,
     "end_time": "2024-07-08T06:14:18.042352",
     "exception": false,
     "start_time": "2024-07-08T06:14:18.003076",
     "status": "completed"
    },
    "tags": []
   },
   "outputs": [
    {
     "data": {
      "text/plain": [
       "Payment_method\n",
       "Card      46.108992\n",
       "Other     47.454082\n",
       "PayPal    46.557491\n",
       "Name: Age, dtype: float64"
      ]
     },
     "execution_count": 25,
     "metadata": {},
     "output_type": "execute_result"
    }
   ],
   "source": [
    "df.groupby(\"Payment_method\")['Age'].mean()"
   ]
  },
  {
   "cell_type": "code",
   "execution_count": 26,
   "id": "fda43c5f",
   "metadata": {
    "execution": {
     "iopub.execute_input": "2024-07-08T06:14:18.090964Z",
     "iopub.status.busy": "2024-07-08T06:14:18.090159Z",
     "iopub.status.idle": "2024-07-08T06:14:18.101034Z",
     "shell.execute_reply": "2024-07-08T06:14:18.099935Z"
    },
    "papermill": {
     "duration": 0.037927,
     "end_time": "2024-07-08T06:14:18.103612",
     "exception": false,
     "start_time": "2024-07-08T06:14:18.065685",
     "status": "completed"
    },
    "tags": []
   },
   "outputs": [
    {
     "data": {
      "text/plain": [
       "Payment_method\n",
       "Card      45.0\n",
       "Other     48.5\n",
       "PayPal    47.0\n",
       "Name: Age, dtype: float64"
      ]
     },
     "execution_count": 26,
     "metadata": {},
     "output_type": "execute_result"
    }
   ],
   "source": [
    "df.groupby(\"Payment_method\")['Age'].median()"
   ]
  },
  {
   "cell_type": "code",
   "execution_count": 27,
   "id": "1044b99f",
   "metadata": {
    "execution": {
     "iopub.execute_input": "2024-07-08T06:14:18.151918Z",
     "iopub.status.busy": "2024-07-08T06:14:18.151525Z",
     "iopub.status.idle": "2024-07-08T06:14:18.161467Z",
     "shell.execute_reply": "2024-07-08T06:14:18.160314Z"
    },
    "papermill": {
     "duration": 0.036949,
     "end_time": "2024-07-08T06:14:18.163835",
     "exception": false,
     "start_time": "2024-07-08T06:14:18.126886",
     "status": "completed"
    },
    "tags": []
   },
   "outputs": [
    {
     "data": {
      "text/plain": [
       "Payment_method\n",
       "Card      15.0\n",
       "Other     15.0\n",
       "PayPal    15.0\n",
       "Name: Age, dtype: float64"
      ]
     },
     "execution_count": 27,
     "metadata": {},
     "output_type": "execute_result"
    }
   ],
   "source": [
    "df.groupby(\"Payment_method\")['Age'].min()"
   ]
  },
  {
   "cell_type": "code",
   "execution_count": 28,
   "id": "4a977500",
   "metadata": {
    "execution": {
     "iopub.execute_input": "2024-07-08T06:14:18.213337Z",
     "iopub.status.busy": "2024-07-08T06:14:18.212338Z",
     "iopub.status.idle": "2024-07-08T06:14:18.222520Z",
     "shell.execute_reply": "2024-07-08T06:14:18.221396Z"
    },
    "papermill": {
     "duration": 0.037527,
     "end_time": "2024-07-08T06:14:18.225078",
     "exception": false,
     "start_time": "2024-07-08T06:14:18.187551",
     "status": "completed"
    },
    "tags": []
   },
   "outputs": [
    {
     "data": {
      "text/plain": [
       "Marital_status\n",
       "Married    1414.961412\n",
       "Single     1423.328658\n",
       "Name: Amount_spent, dtype: float64"
      ]
     },
     "execution_count": 28,
     "metadata": {},
     "output_type": "execute_result"
    }
   ],
   "source": [
    "df.groupby(\"Marital_status\")['Amount_spent'].mean()"
   ]
  },
  {
   "cell_type": "code",
   "execution_count": 29,
   "id": "0f8e2cb5",
   "metadata": {
    "execution": {
     "iopub.execute_input": "2024-07-08T06:14:18.274967Z",
     "iopub.status.busy": "2024-07-08T06:14:18.273939Z",
     "iopub.status.idle": "2024-07-08T06:14:18.284869Z",
     "shell.execute_reply": "2024-07-08T06:14:18.283750Z"
    },
    "papermill": {
     "duration": 0.038429,
     "end_time": "2024-07-08T06:14:18.287223",
     "exception": false,
     "start_time": "2024-07-08T06:14:18.248794",
     "status": "completed"
    },
    "tags": []
   },
   "outputs": [
    {
     "data": {
      "text/plain": [
       "Marital_status\n",
       "Married    2999.98\n",
       "Single     2997.21\n",
       "Name: Amount_spent, dtype: float64"
      ]
     },
     "execution_count": 29,
     "metadata": {},
     "output_type": "execute_result"
    }
   ],
   "source": [
    "df.groupby(\"Marital_status\")['Amount_spent'].max()"
   ]
  },
  {
   "cell_type": "markdown",
   "id": "3ea6e365",
   "metadata": {
    "papermill": {
     "duration": 0.023528,
     "end_time": "2024-07-08T06:14:18.334692",
     "exception": false,
     "start_time": "2024-07-08T06:14:18.311164",
     "status": "completed"
    },
    "tags": []
   },
   "source": [
    "## Part II\n",
    "\n"
   ]
  },
  {
   "cell_type": "markdown",
   "id": "c2157fbe",
   "metadata": {
    "papermill": {
     "duration": 0.023067,
     "end_time": "2024-07-08T06:14:18.381555",
     "exception": false,
     "start_time": "2024-07-08T06:14:18.358488",
     "status": "completed"
    },
    "tags": []
   },
   "source": [
    "The research center asked Dr. Han’s data mining lab to analyze the result. They asked how to use the two\n",
    "medicines to fight with V1-virus."
   ]
  },
  {
   "cell_type": "code",
   "execution_count": 30,
   "id": "94fa7c09",
   "metadata": {
    "execution": {
     "iopub.execute_input": "2024-07-08T06:14:18.430589Z",
     "iopub.status.busy": "2024-07-08T06:14:18.430169Z",
     "iopub.status.idle": "2024-07-08T06:14:18.460125Z",
     "shell.execute_reply": "2024-07-08T06:14:18.459006Z"
    },
    "papermill": {
     "duration": 0.057682,
     "end_time": "2024-07-08T06:14:18.462771",
     "exception": false,
     "start_time": "2024-07-08T06:14:18.405089",
     "status": "completed"
    },
    "tags": []
   },
   "outputs": [
    {
     "data": {
      "text/html": [
       "<div>\n",
       "<style scoped>\n",
       "    .dataframe tbody tr th:only-of-type {\n",
       "        vertical-align: middle;\n",
       "    }\n",
       "\n",
       "    .dataframe tbody tr th {\n",
       "        vertical-align: top;\n",
       "    }\n",
       "\n",
       "    .dataframe thead th {\n",
       "        text-align: right;\n",
       "    }\n",
       "</style>\n",
       "<table border=\"1\" class=\"dataframe\">\n",
       "  <thead>\n",
       "    <tr style=\"text-align: right;\">\n",
       "      <th></th>\n",
       "      <th>ANTI_A</th>\n",
       "      <th>ANTI_B</th>\n",
       "      <th>V1</th>\n",
       "    </tr>\n",
       "  </thead>\n",
       "  <tbody>\n",
       "    <tr>\n",
       "      <th>0</th>\n",
       "      <td>2.77</td>\n",
       "      <td>98.1</td>\n",
       "      <td>6.0</td>\n",
       "    </tr>\n",
       "    <tr>\n",
       "      <th>1</th>\n",
       "      <td>9.79</td>\n",
       "      <td>16.8</td>\n",
       "      <td>6.7</td>\n",
       "    </tr>\n",
       "    <tr>\n",
       "      <th>2</th>\n",
       "      <td>9.29</td>\n",
       "      <td>13.6</td>\n",
       "      <td>7.5</td>\n",
       "    </tr>\n",
       "    <tr>\n",
       "      <th>3</th>\n",
       "      <td>3.41</td>\n",
       "      <td>1.6</td>\n",
       "      <td>7.6</td>\n",
       "    </tr>\n",
       "    <tr>\n",
       "      <th>4</th>\n",
       "      <td>9.83</td>\n",
       "      <td>55.3</td>\n",
       "      <td>8.4</td>\n",
       "    </tr>\n",
       "    <tr>\n",
       "      <th>5</th>\n",
       "      <td>5.76</td>\n",
       "      <td>94.4</td>\n",
       "      <td>9.3</td>\n",
       "    </tr>\n",
       "    <tr>\n",
       "      <th>6</th>\n",
       "      <td>2.73</td>\n",
       "      <td>67.2</td>\n",
       "      <td>9.4</td>\n",
       "    </tr>\n",
       "    <tr>\n",
       "      <th>7</th>\n",
       "      <td>0.17</td>\n",
       "      <td>41.9</td>\n",
       "      <td>9.6</td>\n",
       "    </tr>\n",
       "    <tr>\n",
       "      <th>8</th>\n",
       "      <td>7.50</td>\n",
       "      <td>22.7</td>\n",
       "      <td>10.6</td>\n",
       "    </tr>\n",
       "    <tr>\n",
       "      <th>9</th>\n",
       "      <td>0.21</td>\n",
       "      <td>39.6</td>\n",
       "      <td>11.2</td>\n",
       "    </tr>\n",
       "    <tr>\n",
       "      <th>10</th>\n",
       "      <td>0.66</td>\n",
       "      <td>61.6</td>\n",
       "      <td>11.3</td>\n",
       "    </tr>\n",
       "    <tr>\n",
       "      <th>11</th>\n",
       "      <td>2.84</td>\n",
       "      <td>78.9</td>\n",
       "      <td>11.5</td>\n",
       "    </tr>\n",
       "    <tr>\n",
       "      <th>12</th>\n",
       "      <td>7.90</td>\n",
       "      <td>15.5</td>\n",
       "      <td>11.5</td>\n",
       "    </tr>\n",
       "    <tr>\n",
       "      <th>13</th>\n",
       "      <td>2.00</td>\n",
       "      <td>93.3</td>\n",
       "      <td>11.9</td>\n",
       "    </tr>\n",
       "    <tr>\n",
       "      <th>14</th>\n",
       "      <td>5.07</td>\n",
       "      <td>87.9</td>\n",
       "      <td>13.0</td>\n",
       "    </tr>\n",
       "    <tr>\n",
       "      <th>15</th>\n",
       "      <td>2.14</td>\n",
       "      <td>85.0</td>\n",
       "      <td>13.8</td>\n",
       "    </tr>\n",
       "    <tr>\n",
       "      <th>16</th>\n",
       "      <td>9.94</td>\n",
       "      <td>16.4</td>\n",
       "      <td>14.1</td>\n",
       "    </tr>\n",
       "    <tr>\n",
       "      <th>17</th>\n",
       "      <td>7.21</td>\n",
       "      <td>20.6</td>\n",
       "      <td>14.9</td>\n",
       "    </tr>\n",
       "    <tr>\n",
       "      <th>18</th>\n",
       "      <td>4.41</td>\n",
       "      <td>4.8</td>\n",
       "      <td>15.2</td>\n",
       "    </tr>\n",
       "    <tr>\n",
       "      <th>19</th>\n",
       "      <td>8.70</td>\n",
       "      <td>48.3</td>\n",
       "      <td>15.8</td>\n",
       "    </tr>\n",
       "    <tr>\n",
       "      <th>20</th>\n",
       "      <td>3.05</td>\n",
       "      <td>86.3</td>\n",
       "      <td>16.5</td>\n",
       "    </tr>\n",
       "    <tr>\n",
       "      <th>21</th>\n",
       "      <td>9.34</td>\n",
       "      <td>52.6</td>\n",
       "      <td>17.7</td>\n",
       "    </tr>\n",
       "    <tr>\n",
       "      <th>22</th>\n",
       "      <td>7.36</td>\n",
       "      <td>13.0</td>\n",
       "      <td>21.4</td>\n",
       "    </tr>\n",
       "    <tr>\n",
       "      <th>23</th>\n",
       "      <td>7.79</td>\n",
       "      <td>61.4</td>\n",
       "      <td>55.5</td>\n",
       "    </tr>\n",
       "    <tr>\n",
       "      <th>24</th>\n",
       "      <td>4.24</td>\n",
       "      <td>53.3</td>\n",
       "      <td>60.0</td>\n",
       "    </tr>\n",
       "    <tr>\n",
       "      <th>25</th>\n",
       "      <td>0.63</td>\n",
       "      <td>11.3</td>\n",
       "      <td>61.4</td>\n",
       "    </tr>\n",
       "    <tr>\n",
       "      <th>26</th>\n",
       "      <td>1.43</td>\n",
       "      <td>26.2</td>\n",
       "      <td>62.1</td>\n",
       "    </tr>\n",
       "    <tr>\n",
       "      <th>27</th>\n",
       "      <td>1.44</td>\n",
       "      <td>32.9</td>\n",
       "      <td>64.9</td>\n",
       "    </tr>\n",
       "    <tr>\n",
       "      <th>28</th>\n",
       "      <td>7.34</td>\n",
       "      <td>83.4</td>\n",
       "      <td>64.9</td>\n",
       "    </tr>\n",
       "    <tr>\n",
       "      <th>29</th>\n",
       "      <td>1.74</td>\n",
       "      <td>12.7</td>\n",
       "      <td>69.0</td>\n",
       "    </tr>\n",
       "    <tr>\n",
       "      <th>30</th>\n",
       "      <td>6.12</td>\n",
       "      <td>35.4</td>\n",
       "      <td>70.1</td>\n",
       "    </tr>\n",
       "    <tr>\n",
       "      <th>31</th>\n",
       "      <td>7.59</td>\n",
       "      <td>76.7</td>\n",
       "      <td>73.4</td>\n",
       "    </tr>\n",
       "    <tr>\n",
       "      <th>32</th>\n",
       "      <td>7.31</td>\n",
       "      <td>58.4</td>\n",
       "      <td>74.9</td>\n",
       "    </tr>\n",
       "    <tr>\n",
       "      <th>33</th>\n",
       "      <td>7.17</td>\n",
       "      <td>86.9</td>\n",
       "      <td>76.8</td>\n",
       "    </tr>\n",
       "    <tr>\n",
       "      <th>34</th>\n",
       "      <td>2.99</td>\n",
       "      <td>20.6</td>\n",
       "      <td>77.0</td>\n",
       "    </tr>\n",
       "    <tr>\n",
       "      <th>35</th>\n",
       "      <td>2.84</td>\n",
       "      <td>33.6</td>\n",
       "      <td>77.9</td>\n",
       "    </tr>\n",
       "    <tr>\n",
       "      <th>36</th>\n",
       "      <td>0.67</td>\n",
       "      <td>9.2</td>\n",
       "      <td>80.1</td>\n",
       "    </tr>\n",
       "    <tr>\n",
       "      <th>37</th>\n",
       "      <td>8.62</td>\n",
       "      <td>78.9</td>\n",
       "      <td>81.2</td>\n",
       "    </tr>\n",
       "    <tr>\n",
       "      <th>38</th>\n",
       "      <td>7.44</td>\n",
       "      <td>98.8</td>\n",
       "      <td>83.8</td>\n",
       "    </tr>\n",
       "    <tr>\n",
       "      <th>39</th>\n",
       "      <td>7.21</td>\n",
       "      <td>88.0</td>\n",
       "      <td>90.7</td>\n",
       "    </tr>\n",
       "  </tbody>\n",
       "</table>\n",
       "</div>"
      ],
      "text/plain": [
       "    ANTI_A  ANTI_B    V1\n",
       "0     2.77    98.1   6.0\n",
       "1     9.79    16.8   6.7\n",
       "2     9.29    13.6   7.5\n",
       "3     3.41     1.6   7.6\n",
       "4     9.83    55.3   8.4\n",
       "5     5.76    94.4   9.3\n",
       "6     2.73    67.2   9.4\n",
       "7     0.17    41.9   9.6\n",
       "8     7.50    22.7  10.6\n",
       "9     0.21    39.6  11.2\n",
       "10    0.66    61.6  11.3\n",
       "11    2.84    78.9  11.5\n",
       "12    7.90    15.5  11.5\n",
       "13    2.00    93.3  11.9\n",
       "14    5.07    87.9  13.0\n",
       "15    2.14    85.0  13.8\n",
       "16    9.94    16.4  14.1\n",
       "17    7.21    20.6  14.9\n",
       "18    4.41     4.8  15.2\n",
       "19    8.70    48.3  15.8\n",
       "20    3.05    86.3  16.5\n",
       "21    9.34    52.6  17.7\n",
       "22    7.36    13.0  21.4\n",
       "23    7.79    61.4  55.5\n",
       "24    4.24    53.3  60.0\n",
       "25    0.63    11.3  61.4\n",
       "26    1.43    26.2  62.1\n",
       "27    1.44    32.9  64.9\n",
       "28    7.34    83.4  64.9\n",
       "29    1.74    12.7  69.0\n",
       "30    6.12    35.4  70.1\n",
       "31    7.59    76.7  73.4\n",
       "32    7.31    58.4  74.9\n",
       "33    7.17    86.9  76.8\n",
       "34    2.99    20.6  77.0\n",
       "35    2.84    33.6  77.9\n",
       "36    0.67     9.2  80.1\n",
       "37    8.62    78.9  81.2\n",
       "38    7.44    98.8  83.8\n",
       "39    7.21    88.0  90.7"
      ]
     },
     "execution_count": 30,
     "metadata": {},
     "output_type": "execute_result"
    }
   ],
   "source": [
    "df1 = pd.read_csv(\"/kaggle/input/anti-dataset/anti dataset - anti dataset.csv\", index_col = 'Unnamed: 0')\n",
    "df1"
   ]
  },
  {
   "cell_type": "markdown",
   "id": "35b6b085",
   "metadata": {
    "papermill": {
     "duration": 0.023935,
     "end_time": "2024-07-08T06:14:18.511035",
     "exception": false,
     "start_time": "2024-07-08T06:14:18.487100",
     "status": "completed"
    },
    "tags": []
   },
   "source": [
    "Before we make any changes, we are going to duplicate the dataset so that original dataset is\n",
    "not affected."
   ]
  },
  {
   "cell_type": "code",
   "execution_count": 31,
   "id": "ff603583",
   "metadata": {
    "execution": {
     "iopub.execute_input": "2024-07-08T06:14:18.560850Z",
     "iopub.status.busy": "2024-07-08T06:14:18.560076Z",
     "iopub.status.idle": "2024-07-08T06:14:18.566631Z",
     "shell.execute_reply": "2024-07-08T06:14:18.565396Z"
    },
    "papermill": {
     "duration": 0.034491,
     "end_time": "2024-07-08T06:14:18.569134",
     "exception": false,
     "start_time": "2024-07-08T06:14:18.534643",
     "status": "completed"
    },
    "tags": []
   },
   "outputs": [],
   "source": [
    "df = df1.copy()"
   ]
  },
  {
   "cell_type": "markdown",
   "id": "35c54e5e",
   "metadata": {
    "papermill": {
     "duration": 0.029108,
     "end_time": "2024-07-08T06:14:18.630200",
     "exception": false,
     "start_time": "2024-07-08T06:14:18.601092",
     "status": "completed"
    },
    "tags": []
   },
   "source": [
    "1. Take the V1-Virus measures of the above 40 records and partition them into 5 bins by each of the\n",
    "following methods\n",
    "\n",
    "a. Equal-width partitioning"
   ]
  },
  {
   "cell_type": "code",
   "execution_count": 32,
   "id": "c15cc74e",
   "metadata": {
    "execution": {
     "iopub.execute_input": "2024-07-08T06:14:18.687777Z",
     "iopub.status.busy": "2024-07-08T06:14:18.687254Z",
     "iopub.status.idle": "2024-07-08T06:14:18.728254Z",
     "shell.execute_reply": "2024-07-08T06:14:18.726873Z"
    },
    "papermill": {
     "duration": 0.076715,
     "end_time": "2024-07-08T06:14:18.731403",
     "exception": false,
     "start_time": "2024-07-08T06:14:18.654688",
     "status": "completed"
    },
    "tags": []
   },
   "outputs": [
    {
     "data": {
      "text/html": [
       "<div>\n",
       "<style scoped>\n",
       "    .dataframe tbody tr th:only-of-type {\n",
       "        vertical-align: middle;\n",
       "    }\n",
       "\n",
       "    .dataframe tbody tr th {\n",
       "        vertical-align: top;\n",
       "    }\n",
       "\n",
       "    .dataframe thead th {\n",
       "        text-align: right;\n",
       "    }\n",
       "</style>\n",
       "<table border=\"1\" class=\"dataframe\">\n",
       "  <thead>\n",
       "    <tr style=\"text-align: right;\">\n",
       "      <th></th>\n",
       "      <th>ANTI_A</th>\n",
       "      <th>ANTI_B</th>\n",
       "      <th>V1</th>\n",
       "      <th>V1_bins</th>\n",
       "    </tr>\n",
       "  </thead>\n",
       "  <tbody>\n",
       "    <tr>\n",
       "      <th>0</th>\n",
       "      <td>2.77</td>\n",
       "      <td>98.1</td>\n",
       "      <td>6.0</td>\n",
       "      <td>0</td>\n",
       "    </tr>\n",
       "    <tr>\n",
       "      <th>1</th>\n",
       "      <td>9.79</td>\n",
       "      <td>16.8</td>\n",
       "      <td>6.7</td>\n",
       "      <td>0</td>\n",
       "    </tr>\n",
       "    <tr>\n",
       "      <th>2</th>\n",
       "      <td>9.29</td>\n",
       "      <td>13.6</td>\n",
       "      <td>7.5</td>\n",
       "      <td>0</td>\n",
       "    </tr>\n",
       "    <tr>\n",
       "      <th>3</th>\n",
       "      <td>3.41</td>\n",
       "      <td>1.6</td>\n",
       "      <td>7.6</td>\n",
       "      <td>0</td>\n",
       "    </tr>\n",
       "    <tr>\n",
       "      <th>4</th>\n",
       "      <td>9.83</td>\n",
       "      <td>55.3</td>\n",
       "      <td>8.4</td>\n",
       "      <td>0</td>\n",
       "    </tr>\n",
       "    <tr>\n",
       "      <th>5</th>\n",
       "      <td>5.76</td>\n",
       "      <td>94.4</td>\n",
       "      <td>9.3</td>\n",
       "      <td>0</td>\n",
       "    </tr>\n",
       "    <tr>\n",
       "      <th>6</th>\n",
       "      <td>2.73</td>\n",
       "      <td>67.2</td>\n",
       "      <td>9.4</td>\n",
       "      <td>0</td>\n",
       "    </tr>\n",
       "    <tr>\n",
       "      <th>7</th>\n",
       "      <td>0.17</td>\n",
       "      <td>41.9</td>\n",
       "      <td>9.6</td>\n",
       "      <td>0</td>\n",
       "    </tr>\n",
       "    <tr>\n",
       "      <th>8</th>\n",
       "      <td>7.50</td>\n",
       "      <td>22.7</td>\n",
       "      <td>10.6</td>\n",
       "      <td>0</td>\n",
       "    </tr>\n",
       "    <tr>\n",
       "      <th>9</th>\n",
       "      <td>0.21</td>\n",
       "      <td>39.6</td>\n",
       "      <td>11.2</td>\n",
       "      <td>0</td>\n",
       "    </tr>\n",
       "    <tr>\n",
       "      <th>10</th>\n",
       "      <td>0.66</td>\n",
       "      <td>61.6</td>\n",
       "      <td>11.3</td>\n",
       "      <td>0</td>\n",
       "    </tr>\n",
       "    <tr>\n",
       "      <th>11</th>\n",
       "      <td>2.84</td>\n",
       "      <td>78.9</td>\n",
       "      <td>11.5</td>\n",
       "      <td>0</td>\n",
       "    </tr>\n",
       "    <tr>\n",
       "      <th>12</th>\n",
       "      <td>7.90</td>\n",
       "      <td>15.5</td>\n",
       "      <td>11.5</td>\n",
       "      <td>0</td>\n",
       "    </tr>\n",
       "    <tr>\n",
       "      <th>13</th>\n",
       "      <td>2.00</td>\n",
       "      <td>93.3</td>\n",
       "      <td>11.9</td>\n",
       "      <td>0</td>\n",
       "    </tr>\n",
       "    <tr>\n",
       "      <th>14</th>\n",
       "      <td>5.07</td>\n",
       "      <td>87.9</td>\n",
       "      <td>13.0</td>\n",
       "      <td>0</td>\n",
       "    </tr>\n",
       "    <tr>\n",
       "      <th>15</th>\n",
       "      <td>2.14</td>\n",
       "      <td>85.0</td>\n",
       "      <td>13.8</td>\n",
       "      <td>0</td>\n",
       "    </tr>\n",
       "    <tr>\n",
       "      <th>16</th>\n",
       "      <td>9.94</td>\n",
       "      <td>16.4</td>\n",
       "      <td>14.1</td>\n",
       "      <td>0</td>\n",
       "    </tr>\n",
       "    <tr>\n",
       "      <th>17</th>\n",
       "      <td>7.21</td>\n",
       "      <td>20.6</td>\n",
       "      <td>14.9</td>\n",
       "      <td>0</td>\n",
       "    </tr>\n",
       "    <tr>\n",
       "      <th>18</th>\n",
       "      <td>4.41</td>\n",
       "      <td>4.8</td>\n",
       "      <td>15.2</td>\n",
       "      <td>0</td>\n",
       "    </tr>\n",
       "    <tr>\n",
       "      <th>19</th>\n",
       "      <td>8.70</td>\n",
       "      <td>48.3</td>\n",
       "      <td>15.8</td>\n",
       "      <td>0</td>\n",
       "    </tr>\n",
       "    <tr>\n",
       "      <th>20</th>\n",
       "      <td>3.05</td>\n",
       "      <td>86.3</td>\n",
       "      <td>16.5</td>\n",
       "      <td>0</td>\n",
       "    </tr>\n",
       "    <tr>\n",
       "      <th>21</th>\n",
       "      <td>9.34</td>\n",
       "      <td>52.6</td>\n",
       "      <td>17.7</td>\n",
       "      <td>0</td>\n",
       "    </tr>\n",
       "    <tr>\n",
       "      <th>22</th>\n",
       "      <td>7.36</td>\n",
       "      <td>13.0</td>\n",
       "      <td>21.4</td>\n",
       "      <td>0</td>\n",
       "    </tr>\n",
       "    <tr>\n",
       "      <th>23</th>\n",
       "      <td>7.79</td>\n",
       "      <td>61.4</td>\n",
       "      <td>55.5</td>\n",
       "      <td>2</td>\n",
       "    </tr>\n",
       "    <tr>\n",
       "      <th>24</th>\n",
       "      <td>4.24</td>\n",
       "      <td>53.3</td>\n",
       "      <td>60.0</td>\n",
       "      <td>3</td>\n",
       "    </tr>\n",
       "    <tr>\n",
       "      <th>25</th>\n",
       "      <td>0.63</td>\n",
       "      <td>11.3</td>\n",
       "      <td>61.4</td>\n",
       "      <td>3</td>\n",
       "    </tr>\n",
       "    <tr>\n",
       "      <th>26</th>\n",
       "      <td>1.43</td>\n",
       "      <td>26.2</td>\n",
       "      <td>62.1</td>\n",
       "      <td>3</td>\n",
       "    </tr>\n",
       "    <tr>\n",
       "      <th>27</th>\n",
       "      <td>1.44</td>\n",
       "      <td>32.9</td>\n",
       "      <td>64.9</td>\n",
       "      <td>3</td>\n",
       "    </tr>\n",
       "    <tr>\n",
       "      <th>28</th>\n",
       "      <td>7.34</td>\n",
       "      <td>83.4</td>\n",
       "      <td>64.9</td>\n",
       "      <td>3</td>\n",
       "    </tr>\n",
       "    <tr>\n",
       "      <th>29</th>\n",
       "      <td>1.74</td>\n",
       "      <td>12.7</td>\n",
       "      <td>69.0</td>\n",
       "      <td>3</td>\n",
       "    </tr>\n",
       "    <tr>\n",
       "      <th>30</th>\n",
       "      <td>6.12</td>\n",
       "      <td>35.4</td>\n",
       "      <td>70.1</td>\n",
       "      <td>3</td>\n",
       "    </tr>\n",
       "    <tr>\n",
       "      <th>31</th>\n",
       "      <td>7.59</td>\n",
       "      <td>76.7</td>\n",
       "      <td>73.4</td>\n",
       "      <td>3</td>\n",
       "    </tr>\n",
       "    <tr>\n",
       "      <th>32</th>\n",
       "      <td>7.31</td>\n",
       "      <td>58.4</td>\n",
       "      <td>74.9</td>\n",
       "      <td>4</td>\n",
       "    </tr>\n",
       "    <tr>\n",
       "      <th>33</th>\n",
       "      <td>7.17</td>\n",
       "      <td>86.9</td>\n",
       "      <td>76.8</td>\n",
       "      <td>4</td>\n",
       "    </tr>\n",
       "    <tr>\n",
       "      <th>34</th>\n",
       "      <td>2.99</td>\n",
       "      <td>20.6</td>\n",
       "      <td>77.0</td>\n",
       "      <td>4</td>\n",
       "    </tr>\n",
       "    <tr>\n",
       "      <th>35</th>\n",
       "      <td>2.84</td>\n",
       "      <td>33.6</td>\n",
       "      <td>77.9</td>\n",
       "      <td>4</td>\n",
       "    </tr>\n",
       "    <tr>\n",
       "      <th>36</th>\n",
       "      <td>0.67</td>\n",
       "      <td>9.2</td>\n",
       "      <td>80.1</td>\n",
       "      <td>4</td>\n",
       "    </tr>\n",
       "    <tr>\n",
       "      <th>37</th>\n",
       "      <td>8.62</td>\n",
       "      <td>78.9</td>\n",
       "      <td>81.2</td>\n",
       "      <td>4</td>\n",
       "    </tr>\n",
       "    <tr>\n",
       "      <th>38</th>\n",
       "      <td>7.44</td>\n",
       "      <td>98.8</td>\n",
       "      <td>83.8</td>\n",
       "      <td>4</td>\n",
       "    </tr>\n",
       "    <tr>\n",
       "      <th>39</th>\n",
       "      <td>7.21</td>\n",
       "      <td>88.0</td>\n",
       "      <td>90.7</td>\n",
       "      <td>4</td>\n",
       "    </tr>\n",
       "  </tbody>\n",
       "</table>\n",
       "</div>"
      ],
      "text/plain": [
       "    ANTI_A  ANTI_B    V1  V1_bins\n",
       "0     2.77    98.1   6.0        0\n",
       "1     9.79    16.8   6.7        0\n",
       "2     9.29    13.6   7.5        0\n",
       "3     3.41     1.6   7.6        0\n",
       "4     9.83    55.3   8.4        0\n",
       "5     5.76    94.4   9.3        0\n",
       "6     2.73    67.2   9.4        0\n",
       "7     0.17    41.9   9.6        0\n",
       "8     7.50    22.7  10.6        0\n",
       "9     0.21    39.6  11.2        0\n",
       "10    0.66    61.6  11.3        0\n",
       "11    2.84    78.9  11.5        0\n",
       "12    7.90    15.5  11.5        0\n",
       "13    2.00    93.3  11.9        0\n",
       "14    5.07    87.9  13.0        0\n",
       "15    2.14    85.0  13.8        0\n",
       "16    9.94    16.4  14.1        0\n",
       "17    7.21    20.6  14.9        0\n",
       "18    4.41     4.8  15.2        0\n",
       "19    8.70    48.3  15.8        0\n",
       "20    3.05    86.3  16.5        0\n",
       "21    9.34    52.6  17.7        0\n",
       "22    7.36    13.0  21.4        0\n",
       "23    7.79    61.4  55.5        2\n",
       "24    4.24    53.3  60.0        3\n",
       "25    0.63    11.3  61.4        3\n",
       "26    1.43    26.2  62.1        3\n",
       "27    1.44    32.9  64.9        3\n",
       "28    7.34    83.4  64.9        3\n",
       "29    1.74    12.7  69.0        3\n",
       "30    6.12    35.4  70.1        3\n",
       "31    7.59    76.7  73.4        3\n",
       "32    7.31    58.4  74.9        4\n",
       "33    7.17    86.9  76.8        4\n",
       "34    2.99    20.6  77.0        4\n",
       "35    2.84    33.6  77.9        4\n",
       "36    0.67     9.2  80.1        4\n",
       "37    8.62    78.9  81.2        4\n",
       "38    7.44    98.8  83.8        4\n",
       "39    7.21    88.0  90.7        4"
      ]
     },
     "execution_count": 32,
     "metadata": {},
     "output_type": "execute_result"
    }
   ],
   "source": [
    "# Apply equal-width partitioning using pd.cut() and add a new column for bin assignment\n",
    "df['V1_bins'] = pd.cut(df['V1'], bins=5, labels=False)\n",
    "df"
   ]
  },
  {
   "cell_type": "code",
   "execution_count": 33,
   "id": "f7742da8",
   "metadata": {
    "execution": {
     "iopub.execute_input": "2024-07-08T06:14:18.787719Z",
     "iopub.status.busy": "2024-07-08T06:14:18.786851Z",
     "iopub.status.idle": "2024-07-08T06:14:18.800088Z",
     "shell.execute_reply": "2024-07-08T06:14:18.799004Z"
    },
    "papermill": {
     "duration": 0.041976,
     "end_time": "2024-07-08T06:14:18.802610",
     "exception": false,
     "start_time": "2024-07-08T06:14:18.760634",
     "status": "completed"
    },
    "tags": []
   },
   "outputs": [
    {
     "data": {
      "text/html": [
       "<div>\n",
       "<style scoped>\n",
       "    .dataframe tbody tr th:only-of-type {\n",
       "        vertical-align: middle;\n",
       "    }\n",
       "\n",
       "    .dataframe tbody tr th {\n",
       "        vertical-align: top;\n",
       "    }\n",
       "\n",
       "    .dataframe thead th {\n",
       "        text-align: right;\n",
       "    }\n",
       "</style>\n",
       "<table border=\"1\" class=\"dataframe\">\n",
       "  <thead>\n",
       "    <tr style=\"text-align: right;\">\n",
       "      <th></th>\n",
       "      <th>ANTI_A</th>\n",
       "      <th>ANTI_B</th>\n",
       "      <th>V1</th>\n",
       "    </tr>\n",
       "    <tr>\n",
       "      <th>V1_bins</th>\n",
       "      <th></th>\n",
       "      <th></th>\n",
       "      <th></th>\n",
       "    </tr>\n",
       "  </thead>\n",
       "  <tbody>\n",
       "    <tr>\n",
       "      <th>0</th>\n",
       "      <td>5.307826</td>\n",
       "      <td>48.495652</td>\n",
       "      <td>11.952174</td>\n",
       "    </tr>\n",
       "    <tr>\n",
       "      <th>2</th>\n",
       "      <td>7.790000</td>\n",
       "      <td>61.400000</td>\n",
       "      <td>55.500000</td>\n",
       "    </tr>\n",
       "    <tr>\n",
       "      <th>3</th>\n",
       "      <td>3.816250</td>\n",
       "      <td>41.487500</td>\n",
       "      <td>65.725000</td>\n",
       "    </tr>\n",
       "    <tr>\n",
       "      <th>4</th>\n",
       "      <td>5.531250</td>\n",
       "      <td>59.300000</td>\n",
       "      <td>80.300000</td>\n",
       "    </tr>\n",
       "  </tbody>\n",
       "</table>\n",
       "</div>"
      ],
      "text/plain": [
       "           ANTI_A     ANTI_B         V1\n",
       "V1_bins                                \n",
       "0        5.307826  48.495652  11.952174\n",
       "2        7.790000  61.400000  55.500000\n",
       "3        3.816250  41.487500  65.725000\n",
       "4        5.531250  59.300000  80.300000"
      ]
     },
     "execution_count": 33,
     "metadata": {},
     "output_type": "execute_result"
    }
   ],
   "source": [
    "# Calculate mean for each bin\n",
    "df.groupby('V1_bins').mean()"
   ]
  },
  {
   "cell_type": "markdown",
   "id": "ba735cba",
   "metadata": {
    "papermill": {
     "duration": 0.025308,
     "end_time": "2024-07-08T06:14:18.852876",
     "exception": false,
     "start_time": "2024-07-08T06:14:18.827568",
     "status": "completed"
    },
    "tags": []
   },
   "source": [
    "b. Equal-depth (equal-frequency) partitioning"
   ]
  },
  {
   "cell_type": "code",
   "execution_count": 34,
   "id": "32a3e902",
   "metadata": {
    "execution": {
     "iopub.execute_input": "2024-07-08T06:14:18.905286Z",
     "iopub.status.busy": "2024-07-08T06:14:18.904302Z",
     "iopub.status.idle": "2024-07-08T06:14:18.913752Z",
     "shell.execute_reply": "2024-07-08T06:14:18.912773Z"
    },
    "papermill": {
     "duration": 0.038122,
     "end_time": "2024-07-08T06:14:18.916195",
     "exception": false,
     "start_time": "2024-07-08T06:14:18.878073",
     "status": "completed"
    },
    "tags": []
   },
   "outputs": [],
   "source": [
    "# Apply equal-depth partitioning using pd.qcut() and count the number of records in each bin\n",
    "df['bins_depth'] = pd.qcut(df['V1'], q=5, labels=False)"
   ]
  },
  {
   "cell_type": "code",
   "execution_count": 35,
   "id": "e242b607",
   "metadata": {
    "execution": {
     "iopub.execute_input": "2024-07-08T06:14:18.977828Z",
     "iopub.status.busy": "2024-07-08T06:14:18.976454Z",
     "iopub.status.idle": "2024-07-08T06:14:19.004554Z",
     "shell.execute_reply": "2024-07-08T06:14:19.003423Z"
    },
    "papermill": {
     "duration": 0.062772,
     "end_time": "2024-07-08T06:14:19.007607",
     "exception": false,
     "start_time": "2024-07-08T06:14:18.944835",
     "status": "completed"
    },
    "tags": []
   },
   "outputs": [
    {
     "data": {
      "text/html": [
       "<div>\n",
       "<style scoped>\n",
       "    .dataframe tbody tr th:only-of-type {\n",
       "        vertical-align: middle;\n",
       "    }\n",
       "\n",
       "    .dataframe tbody tr th {\n",
       "        vertical-align: top;\n",
       "    }\n",
       "\n",
       "    .dataframe thead th {\n",
       "        text-align: right;\n",
       "    }\n",
       "</style>\n",
       "<table border=\"1\" class=\"dataframe\">\n",
       "  <thead>\n",
       "    <tr style=\"text-align: right;\">\n",
       "      <th></th>\n",
       "      <th>ANTI_A</th>\n",
       "      <th>ANTI_B</th>\n",
       "      <th>V1</th>\n",
       "      <th>V1_bins</th>\n",
       "      <th>bins_depth</th>\n",
       "    </tr>\n",
       "  </thead>\n",
       "  <tbody>\n",
       "    <tr>\n",
       "      <th>0</th>\n",
       "      <td>2.77</td>\n",
       "      <td>98.1</td>\n",
       "      <td>6.0</td>\n",
       "      <td>0</td>\n",
       "      <td>0</td>\n",
       "    </tr>\n",
       "    <tr>\n",
       "      <th>1</th>\n",
       "      <td>9.79</td>\n",
       "      <td>16.8</td>\n",
       "      <td>6.7</td>\n",
       "      <td>0</td>\n",
       "      <td>0</td>\n",
       "    </tr>\n",
       "    <tr>\n",
       "      <th>2</th>\n",
       "      <td>9.29</td>\n",
       "      <td>13.6</td>\n",
       "      <td>7.5</td>\n",
       "      <td>0</td>\n",
       "      <td>0</td>\n",
       "    </tr>\n",
       "    <tr>\n",
       "      <th>3</th>\n",
       "      <td>3.41</td>\n",
       "      <td>1.6</td>\n",
       "      <td>7.6</td>\n",
       "      <td>0</td>\n",
       "      <td>0</td>\n",
       "    </tr>\n",
       "    <tr>\n",
       "      <th>4</th>\n",
       "      <td>9.83</td>\n",
       "      <td>55.3</td>\n",
       "      <td>8.4</td>\n",
       "      <td>0</td>\n",
       "      <td>0</td>\n",
       "    </tr>\n",
       "    <tr>\n",
       "      <th>5</th>\n",
       "      <td>5.76</td>\n",
       "      <td>94.4</td>\n",
       "      <td>9.3</td>\n",
       "      <td>0</td>\n",
       "      <td>0</td>\n",
       "    </tr>\n",
       "    <tr>\n",
       "      <th>6</th>\n",
       "      <td>2.73</td>\n",
       "      <td>67.2</td>\n",
       "      <td>9.4</td>\n",
       "      <td>0</td>\n",
       "      <td>0</td>\n",
       "    </tr>\n",
       "    <tr>\n",
       "      <th>7</th>\n",
       "      <td>0.17</td>\n",
       "      <td>41.9</td>\n",
       "      <td>9.6</td>\n",
       "      <td>0</td>\n",
       "      <td>0</td>\n",
       "    </tr>\n",
       "    <tr>\n",
       "      <th>8</th>\n",
       "      <td>7.50</td>\n",
       "      <td>22.7</td>\n",
       "      <td>10.6</td>\n",
       "      <td>0</td>\n",
       "      <td>1</td>\n",
       "    </tr>\n",
       "    <tr>\n",
       "      <th>9</th>\n",
       "      <td>0.21</td>\n",
       "      <td>39.6</td>\n",
       "      <td>11.2</td>\n",
       "      <td>0</td>\n",
       "      <td>1</td>\n",
       "    </tr>\n",
       "    <tr>\n",
       "      <th>10</th>\n",
       "      <td>0.66</td>\n",
       "      <td>61.6</td>\n",
       "      <td>11.3</td>\n",
       "      <td>0</td>\n",
       "      <td>1</td>\n",
       "    </tr>\n",
       "    <tr>\n",
       "      <th>11</th>\n",
       "      <td>2.84</td>\n",
       "      <td>78.9</td>\n",
       "      <td>11.5</td>\n",
       "      <td>0</td>\n",
       "      <td>1</td>\n",
       "    </tr>\n",
       "    <tr>\n",
       "      <th>12</th>\n",
       "      <td>7.90</td>\n",
       "      <td>15.5</td>\n",
       "      <td>11.5</td>\n",
       "      <td>0</td>\n",
       "      <td>1</td>\n",
       "    </tr>\n",
       "    <tr>\n",
       "      <th>13</th>\n",
       "      <td>2.00</td>\n",
       "      <td>93.3</td>\n",
       "      <td>11.9</td>\n",
       "      <td>0</td>\n",
       "      <td>1</td>\n",
       "    </tr>\n",
       "    <tr>\n",
       "      <th>14</th>\n",
       "      <td>5.07</td>\n",
       "      <td>87.9</td>\n",
       "      <td>13.0</td>\n",
       "      <td>0</td>\n",
       "      <td>1</td>\n",
       "    </tr>\n",
       "    <tr>\n",
       "      <th>15</th>\n",
       "      <td>2.14</td>\n",
       "      <td>85.0</td>\n",
       "      <td>13.8</td>\n",
       "      <td>0</td>\n",
       "      <td>1</td>\n",
       "    </tr>\n",
       "    <tr>\n",
       "      <th>16</th>\n",
       "      <td>9.94</td>\n",
       "      <td>16.4</td>\n",
       "      <td>14.1</td>\n",
       "      <td>0</td>\n",
       "      <td>2</td>\n",
       "    </tr>\n",
       "    <tr>\n",
       "      <th>17</th>\n",
       "      <td>7.21</td>\n",
       "      <td>20.6</td>\n",
       "      <td>14.9</td>\n",
       "      <td>0</td>\n",
       "      <td>2</td>\n",
       "    </tr>\n",
       "    <tr>\n",
       "      <th>18</th>\n",
       "      <td>4.41</td>\n",
       "      <td>4.8</td>\n",
       "      <td>15.2</td>\n",
       "      <td>0</td>\n",
       "      <td>2</td>\n",
       "    </tr>\n",
       "    <tr>\n",
       "      <th>19</th>\n",
       "      <td>8.70</td>\n",
       "      <td>48.3</td>\n",
       "      <td>15.8</td>\n",
       "      <td>0</td>\n",
       "      <td>2</td>\n",
       "    </tr>\n",
       "    <tr>\n",
       "      <th>20</th>\n",
       "      <td>3.05</td>\n",
       "      <td>86.3</td>\n",
       "      <td>16.5</td>\n",
       "      <td>0</td>\n",
       "      <td>2</td>\n",
       "    </tr>\n",
       "    <tr>\n",
       "      <th>21</th>\n",
       "      <td>9.34</td>\n",
       "      <td>52.6</td>\n",
       "      <td>17.7</td>\n",
       "      <td>0</td>\n",
       "      <td>2</td>\n",
       "    </tr>\n",
       "    <tr>\n",
       "      <th>22</th>\n",
       "      <td>7.36</td>\n",
       "      <td>13.0</td>\n",
       "      <td>21.4</td>\n",
       "      <td>0</td>\n",
       "      <td>2</td>\n",
       "    </tr>\n",
       "    <tr>\n",
       "      <th>23</th>\n",
       "      <td>7.79</td>\n",
       "      <td>61.4</td>\n",
       "      <td>55.5</td>\n",
       "      <td>2</td>\n",
       "      <td>2</td>\n",
       "    </tr>\n",
       "    <tr>\n",
       "      <th>24</th>\n",
       "      <td>4.24</td>\n",
       "      <td>53.3</td>\n",
       "      <td>60.0</td>\n",
       "      <td>3</td>\n",
       "      <td>3</td>\n",
       "    </tr>\n",
       "    <tr>\n",
       "      <th>25</th>\n",
       "      <td>0.63</td>\n",
       "      <td>11.3</td>\n",
       "      <td>61.4</td>\n",
       "      <td>3</td>\n",
       "      <td>3</td>\n",
       "    </tr>\n",
       "    <tr>\n",
       "      <th>26</th>\n",
       "      <td>1.43</td>\n",
       "      <td>26.2</td>\n",
       "      <td>62.1</td>\n",
       "      <td>3</td>\n",
       "      <td>3</td>\n",
       "    </tr>\n",
       "    <tr>\n",
       "      <th>27</th>\n",
       "      <td>1.44</td>\n",
       "      <td>32.9</td>\n",
       "      <td>64.9</td>\n",
       "      <td>3</td>\n",
       "      <td>3</td>\n",
       "    </tr>\n",
       "    <tr>\n",
       "      <th>28</th>\n",
       "      <td>7.34</td>\n",
       "      <td>83.4</td>\n",
       "      <td>64.9</td>\n",
       "      <td>3</td>\n",
       "      <td>3</td>\n",
       "    </tr>\n",
       "    <tr>\n",
       "      <th>29</th>\n",
       "      <td>1.74</td>\n",
       "      <td>12.7</td>\n",
       "      <td>69.0</td>\n",
       "      <td>3</td>\n",
       "      <td>3</td>\n",
       "    </tr>\n",
       "    <tr>\n",
       "      <th>30</th>\n",
       "      <td>6.12</td>\n",
       "      <td>35.4</td>\n",
       "      <td>70.1</td>\n",
       "      <td>3</td>\n",
       "      <td>3</td>\n",
       "    </tr>\n",
       "    <tr>\n",
       "      <th>31</th>\n",
       "      <td>7.59</td>\n",
       "      <td>76.7</td>\n",
       "      <td>73.4</td>\n",
       "      <td>3</td>\n",
       "      <td>3</td>\n",
       "    </tr>\n",
       "    <tr>\n",
       "      <th>32</th>\n",
       "      <td>7.31</td>\n",
       "      <td>58.4</td>\n",
       "      <td>74.9</td>\n",
       "      <td>4</td>\n",
       "      <td>4</td>\n",
       "    </tr>\n",
       "    <tr>\n",
       "      <th>33</th>\n",
       "      <td>7.17</td>\n",
       "      <td>86.9</td>\n",
       "      <td>76.8</td>\n",
       "      <td>4</td>\n",
       "      <td>4</td>\n",
       "    </tr>\n",
       "    <tr>\n",
       "      <th>34</th>\n",
       "      <td>2.99</td>\n",
       "      <td>20.6</td>\n",
       "      <td>77.0</td>\n",
       "      <td>4</td>\n",
       "      <td>4</td>\n",
       "    </tr>\n",
       "    <tr>\n",
       "      <th>35</th>\n",
       "      <td>2.84</td>\n",
       "      <td>33.6</td>\n",
       "      <td>77.9</td>\n",
       "      <td>4</td>\n",
       "      <td>4</td>\n",
       "    </tr>\n",
       "    <tr>\n",
       "      <th>36</th>\n",
       "      <td>0.67</td>\n",
       "      <td>9.2</td>\n",
       "      <td>80.1</td>\n",
       "      <td>4</td>\n",
       "      <td>4</td>\n",
       "    </tr>\n",
       "    <tr>\n",
       "      <th>37</th>\n",
       "      <td>8.62</td>\n",
       "      <td>78.9</td>\n",
       "      <td>81.2</td>\n",
       "      <td>4</td>\n",
       "      <td>4</td>\n",
       "    </tr>\n",
       "    <tr>\n",
       "      <th>38</th>\n",
       "      <td>7.44</td>\n",
       "      <td>98.8</td>\n",
       "      <td>83.8</td>\n",
       "      <td>4</td>\n",
       "      <td>4</td>\n",
       "    </tr>\n",
       "    <tr>\n",
       "      <th>39</th>\n",
       "      <td>7.21</td>\n",
       "      <td>88.0</td>\n",
       "      <td>90.7</td>\n",
       "      <td>4</td>\n",
       "      <td>4</td>\n",
       "    </tr>\n",
       "  </tbody>\n",
       "</table>\n",
       "</div>"
      ],
      "text/plain": [
       "    ANTI_A  ANTI_B    V1  V1_bins  bins_depth\n",
       "0     2.77    98.1   6.0        0           0\n",
       "1     9.79    16.8   6.7        0           0\n",
       "2     9.29    13.6   7.5        0           0\n",
       "3     3.41     1.6   7.6        0           0\n",
       "4     9.83    55.3   8.4        0           0\n",
       "5     5.76    94.4   9.3        0           0\n",
       "6     2.73    67.2   9.4        0           0\n",
       "7     0.17    41.9   9.6        0           0\n",
       "8     7.50    22.7  10.6        0           1\n",
       "9     0.21    39.6  11.2        0           1\n",
       "10    0.66    61.6  11.3        0           1\n",
       "11    2.84    78.9  11.5        0           1\n",
       "12    7.90    15.5  11.5        0           1\n",
       "13    2.00    93.3  11.9        0           1\n",
       "14    5.07    87.9  13.0        0           1\n",
       "15    2.14    85.0  13.8        0           1\n",
       "16    9.94    16.4  14.1        0           2\n",
       "17    7.21    20.6  14.9        0           2\n",
       "18    4.41     4.8  15.2        0           2\n",
       "19    8.70    48.3  15.8        0           2\n",
       "20    3.05    86.3  16.5        0           2\n",
       "21    9.34    52.6  17.7        0           2\n",
       "22    7.36    13.0  21.4        0           2\n",
       "23    7.79    61.4  55.5        2           2\n",
       "24    4.24    53.3  60.0        3           3\n",
       "25    0.63    11.3  61.4        3           3\n",
       "26    1.43    26.2  62.1        3           3\n",
       "27    1.44    32.9  64.9        3           3\n",
       "28    7.34    83.4  64.9        3           3\n",
       "29    1.74    12.7  69.0        3           3\n",
       "30    6.12    35.4  70.1        3           3\n",
       "31    7.59    76.7  73.4        3           3\n",
       "32    7.31    58.4  74.9        4           4\n",
       "33    7.17    86.9  76.8        4           4\n",
       "34    2.99    20.6  77.0        4           4\n",
       "35    2.84    33.6  77.9        4           4\n",
       "36    0.67     9.2  80.1        4           4\n",
       "37    8.62    78.9  81.2        4           4\n",
       "38    7.44    98.8  83.8        4           4\n",
       "39    7.21    88.0  90.7        4           4"
      ]
     },
     "execution_count": 35,
     "metadata": {},
     "output_type": "execute_result"
    }
   ],
   "source": [
    "df"
   ]
  },
  {
   "cell_type": "markdown",
   "id": "1ddf0a12",
   "metadata": {
    "papermill": {
     "duration": 0.025583,
     "end_time": "2024-07-08T06:14:19.065723",
     "exception": false,
     "start_time": "2024-07-08T06:14:19.040140",
     "status": "completed"
    },
    "tags": []
   },
   "source": [
    "2. Separate the 40 patients into two groups based on the analysis 1 (partitioning), where one group\n",
    "has much lower V1-virus than the other, and further analyze the two groups by the following\n",
    "methods\n",
    "\n",
    "a. Compute the mean, Q1, median, Q3, and standard deviation of the T-virus measures for\n",
    "each group"
   ]
  },
  {
   "cell_type": "code",
   "execution_count": 36,
   "id": "b86d04ec",
   "metadata": {
    "execution": {
     "iopub.execute_input": "2024-07-08T06:14:19.121598Z",
     "iopub.status.busy": "2024-07-08T06:14:19.120521Z",
     "iopub.status.idle": "2024-07-08T06:14:19.137342Z",
     "shell.execute_reply": "2024-07-08T06:14:19.136194Z"
    },
    "papermill": {
     "duration": 0.047943,
     "end_time": "2024-07-08T06:14:19.139984",
     "exception": false,
     "start_time": "2024-07-08T06:14:19.092041",
     "status": "completed"
    },
    "tags": []
   },
   "outputs": [
    {
     "data": {
      "text/plain": [
       "count    23.000000\n",
       "mean     11.952174\n",
       "std       3.830840\n",
       "min       6.000000\n",
       "25%       9.350000\n",
       "50%      11.500000\n",
       "75%      14.500000\n",
       "max      21.400000\n",
       "Name: V1, dtype: float64"
      ]
     },
     "execution_count": 36,
     "metadata": {},
     "output_type": "execute_result"
    }
   ],
   "source": [
    "# Separate patients into two groups based on V1_bins\n",
    "group_low_v1 = df[df['V1_bins'] <= 1]  # Group with V1_bins <= 1\n",
    "group_high_v1 = df[df['V1_bins'] > 1]  # Group with V1_bins > 1\n",
    "\n",
    "# Compute summary statistics for each group\n",
    "group_low_v1_stats = group_low_v1['V1'].describe()\n",
    "group_high_v1_stats = group_high_v1['V1'].describe()\n",
    "group_low_v1_stats"
   ]
  },
  {
   "cell_type": "code",
   "execution_count": 37,
   "id": "6cc433bf",
   "metadata": {
    "execution": {
     "iopub.execute_input": "2024-07-08T06:14:19.194250Z",
     "iopub.status.busy": "2024-07-08T06:14:19.193219Z",
     "iopub.status.idle": "2024-07-08T06:14:19.201979Z",
     "shell.execute_reply": "2024-07-08T06:14:19.200786Z"
    },
    "papermill": {
     "duration": 0.038304,
     "end_time": "2024-07-08T06:14:19.204397",
     "exception": false,
     "start_time": "2024-07-08T06:14:19.166093",
     "status": "completed"
    },
    "tags": []
   },
   "outputs": [
    {
     "data": {
      "text/plain": [
       "count    17.000000\n",
       "mean     71.982353\n",
       "std       9.593112\n",
       "min      55.500000\n",
       "25%      64.900000\n",
       "50%      73.400000\n",
       "75%      77.900000\n",
       "max      90.700000\n",
       "Name: V1, dtype: float64"
      ]
     },
     "execution_count": 37,
     "metadata": {},
     "output_type": "execute_result"
    }
   ],
   "source": [
    "group_high_v1_stats"
   ]
  },
  {
   "cell_type": "markdown",
   "id": "96d28283",
   "metadata": {
    "papermill": {
     "duration": 0.025671,
     "end_time": "2024-07-08T06:14:19.255852",
     "exception": false,
     "start_time": "2024-07-08T06:14:19.230181",
     "status": "completed"
    },
    "tags": []
   },
   "source": [
    "b. Draw the boxplots of the T-virus measures for each group"
   ]
  },
  {
   "cell_type": "code",
   "execution_count": 38,
   "id": "a88a2a26",
   "metadata": {
    "execution": {
     "iopub.execute_input": "2024-07-08T06:14:19.310083Z",
     "iopub.status.busy": "2024-07-08T06:14:19.309094Z",
     "iopub.status.idle": "2024-07-08T06:14:19.562033Z",
     "shell.execute_reply": "2024-07-08T06:14:19.560839Z"
    },
    "papermill": {
     "duration": 0.282902,
     "end_time": "2024-07-08T06:14:19.564732",
     "exception": false,
     "start_time": "2024-07-08T06:14:19.281830",
     "status": "completed"
    },
    "tags": []
   },
   "outputs": [
    {
     "data": {
      "image/png": "[encoded data removed]",
      "text/plain": [
       "<Figure size 1000x600 with 1 Axes>"
      ]
     },
     "metadata": {},
     "output_type": "display_data"
    }
   ],
   "source": [
    "# Draw boxplots for each group\n",
    "plt.figure(figsize=(10, 6))\n",
    "sns.boxplot(x='V1_bins', y='V1', data=df, palette='coolwarm')\n",
    "plt.title('Boxplots of V1-virus measures for each group')\n",
    "plt.xlabel('Group')\n",
    "plt.ylabel('V1-virus measures')\n",
    "plt.show()"
   ]
  },
  {
   "cell_type": "markdown",
   "id": "835ac597",
   "metadata": {
    "papermill": {
     "duration": 0.028005,
     "end_time": "2024-07-08T06:14:19.619260",
     "exception": false,
     "start_time": "2024-07-08T06:14:19.591255",
     "status": "completed"
    },
    "tags": []
   },
   "source": [
    "c. Normalize the Anti-A and Anti-B amounts based on the min-max normalization for each\n",
    "group, and write down all normalized values"
   ]
  },
  {
   "cell_type": "code",
   "execution_count": 39,
   "id": "75b94e9d",
   "metadata": {
    "execution": {
     "iopub.execute_input": "2024-07-08T06:14:19.674374Z",
     "iopub.status.busy": "2024-07-08T06:14:19.673380Z",
     "iopub.status.idle": "2024-07-08T06:14:19.713540Z",
     "shell.execute_reply": "2024-07-08T06:14:19.712517Z"
    },
    "papermill": {
     "duration": 0.070598,
     "end_time": "2024-07-08T06:14:19.716193",
     "exception": false,
     "start_time": "2024-07-08T06:14:19.645595",
     "status": "completed"
    },
    "tags": []
   },
   "outputs": [
    {
     "data": {
      "text/html": [
       "<div>\n",
       "<style scoped>\n",
       "    .dataframe tbody tr th:only-of-type {\n",
       "        vertical-align: middle;\n",
       "    }\n",
       "\n",
       "    .dataframe tbody tr th {\n",
       "        vertical-align: top;\n",
       "    }\n",
       "\n",
       "    .dataframe thead th {\n",
       "        text-align: right;\n",
       "    }\n",
       "</style>\n",
       "<table border=\"1\" class=\"dataframe\">\n",
       "  <thead>\n",
       "    <tr style=\"text-align: right;\">\n",
       "      <th></th>\n",
       "      <th>ANTI_A_normalized</th>\n",
       "      <th>ANTI_B_normalized</th>\n",
       "    </tr>\n",
       "  </thead>\n",
       "  <tbody>\n",
       "    <tr>\n",
       "      <th>0</th>\n",
       "      <td>0.269151</td>\n",
       "      <td>1.000000</td>\n",
       "    </tr>\n",
       "    <tr>\n",
       "      <th>1</th>\n",
       "      <td>0.995859</td>\n",
       "      <td>0.157513</td>\n",
       "    </tr>\n",
       "    <tr>\n",
       "      <th>2</th>\n",
       "      <td>0.944099</td>\n",
       "      <td>0.124352</td>\n",
       "    </tr>\n",
       "    <tr>\n",
       "      <th>3</th>\n",
       "      <td>0.335404</td>\n",
       "      <td>0.000000</td>\n",
       "    </tr>\n",
       "    <tr>\n",
       "      <th>4</th>\n",
       "      <td>1.000000</td>\n",
       "      <td>0.556477</td>\n",
       "    </tr>\n",
       "    <tr>\n",
       "      <th>5</th>\n",
       "      <td>0.578675</td>\n",
       "      <td>0.961658</td>\n",
       "    </tr>\n",
       "    <tr>\n",
       "      <th>6</th>\n",
       "      <td>0.265010</td>\n",
       "      <td>0.679793</td>\n",
       "    </tr>\n",
       "    <tr>\n",
       "      <th>7</th>\n",
       "      <td>0.000000</td>\n",
       "      <td>0.417617</td>\n",
       "    </tr>\n",
       "    <tr>\n",
       "      <th>8</th>\n",
       "      <td>0.947984</td>\n",
       "      <td>0.092545</td>\n",
       "    </tr>\n",
       "    <tr>\n",
       "      <th>9</th>\n",
       "      <td>0.000000</td>\n",
       "      <td>0.309769</td>\n",
       "    </tr>\n",
       "    <tr>\n",
       "      <th>10</th>\n",
       "      <td>0.058518</td>\n",
       "      <td>0.592545</td>\n",
       "    </tr>\n",
       "    <tr>\n",
       "      <th>11</th>\n",
       "      <td>0.342003</td>\n",
       "      <td>0.814910</td>\n",
       "    </tr>\n",
       "    <tr>\n",
       "      <th>12</th>\n",
       "      <td>1.000000</td>\n",
       "      <td>0.000000</td>\n",
       "    </tr>\n",
       "    <tr>\n",
       "      <th>13</th>\n",
       "      <td>0.232770</td>\n",
       "      <td>1.000000</td>\n",
       "    </tr>\n",
       "    <tr>\n",
       "      <th>14</th>\n",
       "      <td>0.631990</td>\n",
       "      <td>0.930591</td>\n",
       "    </tr>\n",
       "    <tr>\n",
       "      <th>15</th>\n",
       "      <td>0.250975</td>\n",
       "      <td>0.893316</td>\n",
       "    </tr>\n",
       "    <tr>\n",
       "      <th>16</th>\n",
       "      <td>1.000000</td>\n",
       "      <td>0.142331</td>\n",
       "    </tr>\n",
       "    <tr>\n",
       "      <th>17</th>\n",
       "      <td>0.603774</td>\n",
       "      <td>0.193865</td>\n",
       "    </tr>\n",
       "    <tr>\n",
       "      <th>18</th>\n",
       "      <td>0.197388</td>\n",
       "      <td>0.000000</td>\n",
       "    </tr>\n",
       "    <tr>\n",
       "      <th>19</th>\n",
       "      <td>0.820029</td>\n",
       "      <td>0.533742</td>\n",
       "    </tr>\n",
       "    <tr>\n",
       "      <th>20</th>\n",
       "      <td>0.000000</td>\n",
       "      <td>1.000000</td>\n",
       "    </tr>\n",
       "    <tr>\n",
       "      <th>21</th>\n",
       "      <td>0.912917</td>\n",
       "      <td>0.586503</td>\n",
       "    </tr>\n",
       "    <tr>\n",
       "      <th>22</th>\n",
       "      <td>0.625544</td>\n",
       "      <td>0.100613</td>\n",
       "    </tr>\n",
       "  </tbody>\n",
       "</table>\n",
       "</div>"
      ],
      "text/plain": [
       "    ANTI_A_normalized  ANTI_B_normalized\n",
       "0            0.269151           1.000000\n",
       "1            0.995859           0.157513\n",
       "2            0.944099           0.124352\n",
       "3            0.335404           0.000000\n",
       "4            1.000000           0.556477\n",
       "5            0.578675           0.961658\n",
       "6            0.265010           0.679793\n",
       "7            0.000000           0.417617\n",
       "8            0.947984           0.092545\n",
       "9            0.000000           0.309769\n",
       "10           0.058518           0.592545\n",
       "11           0.342003           0.814910\n",
       "12           1.000000           0.000000\n",
       "13           0.232770           1.000000\n",
       "14           0.631990           0.930591\n",
       "15           0.250975           0.893316\n",
       "16           1.000000           0.142331\n",
       "17           0.603774           0.193865\n",
       "18           0.197388           0.000000\n",
       "19           0.820029           0.533742\n",
       "20           0.000000           1.000000\n",
       "21           0.912917           0.586503\n",
       "22           0.625544           0.100613"
      ]
     },
     "execution_count": 39,
     "metadata": {},
     "output_type": "execute_result"
    }
   ],
   "source": [
    "\n",
    "# Define min-max normalization function\n",
    "def min_max_normalization(series):\n",
    "    return (series - series.min()) / (series.max() - series.min())\n",
    "\n",
    "# Normalize 'ANTI_A' and 'ANTI_B' for each group\n",
    "group_low_v1[['ANTI_A_normalized', 'ANTI_B_normalized']] = group_low_v1.groupby('bins_depth')[['ANTI_A', 'ANTI_B']].transform(min_max_normalization)\n",
    "\n",
    "group_high_v1[['ANTI_A_normalized', 'ANTI_B_normalized']] = group_high_v1.groupby('bins_depth')[['ANTI_A', 'ANTI_B']].transform(min_max_normalization)\n",
    "# Display the DataFrame with normalized values\n",
    "group_low_v1[['ANTI_A_normalized', 'ANTI_B_normalized']]"
   ]
  },
  {
   "cell_type": "code",
   "execution_count": 40,
   "id": "7c7d7e9c",
   "metadata": {
    "execution": {
     "iopub.execute_input": "2024-07-08T06:14:19.771438Z",
     "iopub.status.busy": "2024-07-08T06:14:19.771030Z",
     "iopub.status.idle": "2024-07-08T06:14:19.784762Z",
     "shell.execute_reply": "2024-07-08T06:14:19.783672Z"
    },
    "papermill": {
     "duration": 0.044228,
     "end_time": "2024-07-08T06:14:19.787197",
     "exception": false,
     "start_time": "2024-07-08T06:14:19.742969",
     "status": "completed"
    },
    "tags": []
   },
   "outputs": [
    {
     "data": {
      "text/html": [
       "<div>\n",
       "<style scoped>\n",
       "    .dataframe tbody tr th:only-of-type {\n",
       "        vertical-align: middle;\n",
       "    }\n",
       "\n",
       "    .dataframe tbody tr th {\n",
       "        vertical-align: top;\n",
       "    }\n",
       "\n",
       "    .dataframe thead th {\n",
       "        text-align: right;\n",
       "    }\n",
       "</style>\n",
       "<table border=\"1\" class=\"dataframe\">\n",
       "  <thead>\n",
       "    <tr style=\"text-align: right;\">\n",
       "      <th></th>\n",
       "      <th>ANTI_A_normalized</th>\n",
       "      <th>ANTI_B_normalized</th>\n",
       "    </tr>\n",
       "  </thead>\n",
       "  <tbody>\n",
       "    <tr>\n",
       "      <th>23</th>\n",
       "      <td>NaN</td>\n",
       "      <td>NaN</td>\n",
       "    </tr>\n",
       "    <tr>\n",
       "      <th>24</th>\n",
       "      <td>0.518678</td>\n",
       "      <td>0.582524</td>\n",
       "    </tr>\n",
       "    <tr>\n",
       "      <th>25</th>\n",
       "      <td>0.000000</td>\n",
       "      <td>0.000000</td>\n",
       "    </tr>\n",
       "    <tr>\n",
       "      <th>26</th>\n",
       "      <td>0.114943</td>\n",
       "      <td>0.206657</td>\n",
       "    </tr>\n",
       "    <tr>\n",
       "      <th>27</th>\n",
       "      <td>0.116379</td>\n",
       "      <td>0.299584</td>\n",
       "    </tr>\n",
       "    <tr>\n",
       "      <th>28</th>\n",
       "      <td>0.964080</td>\n",
       "      <td>1.000000</td>\n",
       "    </tr>\n",
       "    <tr>\n",
       "      <th>29</th>\n",
       "      <td>0.159483</td>\n",
       "      <td>0.019417</td>\n",
       "    </tr>\n",
       "    <tr>\n",
       "      <th>30</th>\n",
       "      <td>0.788793</td>\n",
       "      <td>0.334258</td>\n",
       "    </tr>\n",
       "    <tr>\n",
       "      <th>31</th>\n",
       "      <td>1.000000</td>\n",
       "      <td>0.907074</td>\n",
       "    </tr>\n",
       "    <tr>\n",
       "      <th>32</th>\n",
       "      <td>0.835220</td>\n",
       "      <td>0.549107</td>\n",
       "    </tr>\n",
       "    <tr>\n",
       "      <th>33</th>\n",
       "      <td>0.817610</td>\n",
       "      <td>0.867188</td>\n",
       "    </tr>\n",
       "    <tr>\n",
       "      <th>34</th>\n",
       "      <td>0.291824</td>\n",
       "      <td>0.127232</td>\n",
       "    </tr>\n",
       "    <tr>\n",
       "      <th>35</th>\n",
       "      <td>0.272956</td>\n",
       "      <td>0.272321</td>\n",
       "    </tr>\n",
       "    <tr>\n",
       "      <th>36</th>\n",
       "      <td>0.000000</td>\n",
       "      <td>0.000000</td>\n",
       "    </tr>\n",
       "    <tr>\n",
       "      <th>37</th>\n",
       "      <td>1.000000</td>\n",
       "      <td>0.777902</td>\n",
       "    </tr>\n",
       "    <tr>\n",
       "      <th>38</th>\n",
       "      <td>0.851572</td>\n",
       "      <td>1.000000</td>\n",
       "    </tr>\n",
       "    <tr>\n",
       "      <th>39</th>\n",
       "      <td>0.822642</td>\n",
       "      <td>0.879464</td>\n",
       "    </tr>\n",
       "  </tbody>\n",
       "</table>\n",
       "</div>"
      ],
      "text/plain": [
       "    ANTI_A_normalized  ANTI_B_normalized\n",
       "23                NaN                NaN\n",
       "24           0.518678           0.582524\n",
       "25           0.000000           0.000000\n",
       "26           0.114943           0.206657\n",
       "27           0.116379           0.299584\n",
       "28           0.964080           1.000000\n",
       "29           0.159483           0.019417\n",
       "30           0.788793           0.334258\n",
       "31           1.000000           0.907074\n",
       "32           0.835220           0.549107\n",
       "33           0.817610           0.867188\n",
       "34           0.291824           0.127232\n",
       "35           0.272956           0.272321\n",
       "36           0.000000           0.000000\n",
       "37           1.000000           0.777902\n",
       "38           0.851572           1.000000\n",
       "39           0.822642           0.879464"
      ]
     },
     "execution_count": 40,
     "metadata": {},
     "output_type": "execute_result"
    }
   ],
   "source": [
    "group_high_v1[['ANTI_A_normalized', 'ANTI_B_normalized']]"
   ]
  },
  {
   "cell_type": "markdown",
   "id": "aa1e8a1c",
   "metadata": {
    "papermill": {
     "duration": 0.026592,
     "end_time": "2024-07-08T06:14:19.840534",
     "exception": false,
     "start_time": "2024-07-08T06:14:19.813942",
     "status": "completed"
    },
    "tags": []
   },
   "source": [
    "d. Draw scatter plots of the normalized Anti-A and normalized Anti-B for each group"
   ]
  },
  {
   "cell_type": "code",
   "execution_count": 41,
   "id": "ca4017d0",
   "metadata": {
    "execution": {
     "iopub.execute_input": "2024-07-08T06:14:19.897172Z",
     "iopub.status.busy": "2024-07-08T06:14:19.896216Z",
     "iopub.status.idle": "2024-07-08T06:14:20.621150Z",
     "shell.execute_reply": "2024-07-08T06:14:20.619995Z"
    },
    "papermill": {
     "duration": 0.755837,
     "end_time": "2024-07-08T06:14:20.623754",
     "exception": false,
     "start_time": "2024-07-08T06:14:19.867917",
     "status": "completed"
    },
    "tags": []
   },
   "outputs": [
    {
     "data": {
      "image/png": "[encoded data removed]",
      "text/plain": [
       "<Figure size 1200x600 with 2 Axes>"
      ]
     },
     "metadata": {},
     "output_type": "display_data"
    }
   ],
   "source": [
    "\n",
    "# Scatter plot for each group\n",
    "plt.figure(figsize=(12, 6))\n",
    "\n",
    "plt.subplot(1, 2, 1)\n",
    "sns.scatterplot(x='ANTI_A_normalized', y='ANTI_B_normalized', data=group_low_v1, hue='bins_depth', palette='Set2')\n",
    "plt.title('Scatter Plot - Group with Lower V1-virus')\n",
    "plt.xlabel('Normalized ANTI_A')\n",
    "plt.ylabel('Normalized ANTI_B')\n",
    "plt.legend(title='Group Depth')\n",
    "\n",
    "plt.subplot(1, 2, 2)\n",
    "sns.scatterplot(x='ANTI_A_normalized', y='ANTI_B_normalized', data=group_high_v1, hue='bins_depth', palette='Set2')\n",
    "plt.title('Scatter Plot - Group with Higher V1-virus')\n",
    "plt.xlabel('Normalized ANTI_A')\n",
    "plt.ylabel('Normalized ANTI_B')\n",
    "plt.legend(title='Group Depth')\n",
    "\n",
    "plt.tight_layout()\n",
    "plt.show()"
   ]
  },
  {
   "cell_type": "markdown",
   "id": "15544622",
   "metadata": {
    "papermill": {
     "duration": 0.027417,
     "end_time": "2024-07-08T06:14:20.678979",
     "exception": false,
     "start_time": "2024-07-08T06:14:20.651562",
     "status": "completed"
    },
    "tags": []
   },
   "source": [
    "e. Calculate the Pearson correlation coefficient between the normalized Anti-A and\n",
    "normalized Anti-B for each group"
   ]
  },
  {
   "cell_type": "code",
   "execution_count": 42,
   "id": "8ca96a4d",
   "metadata": {
    "execution": {
     "iopub.execute_input": "2024-07-08T06:14:20.736769Z",
     "iopub.status.busy": "2024-07-08T06:14:20.735779Z",
     "iopub.status.idle": "2024-07-08T06:14:20.747394Z",
     "shell.execute_reply": "2024-07-08T06:14:20.746250Z"
    },
    "papermill": {
     "duration": 0.043688,
     "end_time": "2024-07-08T06:14:20.750261",
     "exception": false,
     "start_time": "2024-07-08T06:14:20.706573",
     "status": "completed"
    },
    "tags": []
   },
   "outputs": [
    {
     "name": "stdout",
     "output_type": "stream",
     "text": [
      "Pearson correlation coefficient for Group with Lower V1-virus: -0.398797164099304\n",
      "Pearson correlation coefficient for Group with Higher V1-virus: 0.9100422949159421\n"
     ]
    }
   ],
   "source": [
    "from scipy.stats import pearsonr\n",
    "# Calculate Pearson correlation coefficient for each group\n",
    "corr_low_v1, _ = pearsonr(group_low_v1['ANTI_A_normalized'], group_low_v1['ANTI_B_normalized'])\n",
    "corr_high_v1, _ = pearsonr(group_high_v1['ANTI_A_normalized'].fillna(0.0), group_high_v1['ANTI_B_normalized'].fillna(0.0))\n",
    "\n",
    "# Display the correlation coefficients\n",
    "print(\"Pearson correlation coefficient for Group with Lower V1-virus:\", corr_low_v1)\n",
    "print(\"Pearson correlation coefficient for Group with Higher V1-virus:\", corr_high_v1)"
   ]
  }
 ],
 "metadata": {
  "kaggle": {
   "accelerator": "none",
   "dataSources": [
    {
     "datasetId": 1860996,
     "sourceId": 3038587,
     "sourceType": "datasetVersion"
    },
    {
     "datasetId": 4485256,
     "sourceId": 7686380,
     "sourceType": "datasetVersion"
    }
   ],
   "dockerImageVersionId": 30646,
   "isGpuEnabled": false,
   "isInternetEnabled": true,
   "language": "python",
   "sourceType": "notebook"
  },
  "kernelspec": {
   "display_name": "Python 3",
   "language": "python",
   "name": "python3"
  },
  "language_info": {
   "codemirror_mode": {
    "name": "ipython",
    "version": 3
   },
   "file_extension": ".py",
   "mimetype": "text/x-python",
   "name": "python",
   "nbconvert_exporter": "python",
   "pygments_lexer": "ipython3",
   "version": "3.10.13"
  },
  "papermill": {
   "default_parameters": {},
   "duration": 11.423292,
   "end_time": "2024-07-08T06:14:21.399146",
   "environment_variables": {},
   "exception": null,
   "input_path": "__notebook__.ipynb",
   "output_path": "__notebook__.ipynb",
   "parameters": {},
   "start_time": "2024-07-08T06:14:09.975854",
   "version": "2.5.0"
  }
 },
 "nbformat": 4,
 "nbformat_minor": 5
}
